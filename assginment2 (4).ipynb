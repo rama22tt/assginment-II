{
 "cells": [
  {
   "cell_type": "markdown",
   "id": "c90cddd9-8a63-4e4c-aa94-28cc24c41d8b",
   "metadata": {},
   "source": [
    "Assignment2\n",
    "\n",
    "string based question"
   ]
  },
  {
   "cell_type": "markdown",
   "id": "e0311ed5-e928-4d61-88cb-c893cc1f589a",
   "metadata": {},
   "source": [
    "*1.Write a program to reverse a string."
   ]
  },
  {
   "cell_type": "code",
   "execution_count": 1,
   "id": "d25a0a9a-d360-4b39-9114-7a0b2eabf8f3",
   "metadata": {},
   "outputs": [
    {
     "name": "stdout",
     "output_type": "stream",
     "text": [
      "string after get reverses:  nohtyp\n"
     ]
    }
   ],
   "source": [
    "# we can reverse a string just by using a  by using SLICEING  it is one of most simle method to do it\n",
    "str=\"python\"\n",
    "print(\"string after get reverses: \",str[::-1])"
   ]
  },
  {
   "cell_type": "markdown",
   "id": "9d634853-0618-4b12-ad16-6aab59e5460e",
   "metadata": {},
   "source": [
    "*2.check string is a plaidrome."
   ]
  },
  {
   "cell_type": "code",
   "execution_count": 2,
   "id": "4e39b552-d250-4973-b9c8-b37e2f8920c8",
   "metadata": {},
   "outputs": [
    {
     "name": "stdin",
     "output_type": "stream",
     "text": [
      "Enter the string : arora\n"
     ]
    },
    {
     "name": "stdout",
     "output_type": "stream",
     "text": [
      "It is palidrome \n"
     ]
    }
   ],
   "source": [
    "#taking string as input\n",
    "str3=input(\"Enter the string :\")\n",
    "#just reversing string\n",
    "str4=str3[::-1]\n",
    "#applying condition to check\n",
    "if(str3==str4):\n",
    "    print(\"It is palidrome \")\n",
    "else:\n",
    "    print(\"It is not palidrome\")"
   ]
  },
  {
   "cell_type": "markdown",
   "id": "d5c3ec0c-1941-4323-a9f8-0bdec346bb89",
   "metadata": {},
   "source": [
    "*3 Convert a string to uppercase."
   ]
  },
  {
   "cell_type": "code",
   "execution_count": 13,
   "id": "6f41bf0c-6098-4890-be57-a89a0a5020ab",
   "metadata": {},
   "outputs": [
    {
     "name": "stdout",
     "output_type": "stream",
     "text": [
      "string after converting into upper case: PYTHON\n"
     ]
    }
   ],
   "source": [
    "str=\"python\"\n",
    "print(\"string after converting into upper case:\",str.upper())"
   ]
  },
  {
   "cell_type": "markdown",
   "id": "8dda219d-e5af-42c9-9e0f-4f032b45d9e4",
   "metadata": {},
   "source": [
    "*4. convert a string to lowercase."
   ]
  },
  {
   "cell_type": "code",
   "execution_count": 14,
   "id": "6a5500f5-80d6-4767-86d1-e375296c1cdf",
   "metadata": {},
   "outputs": [
    {
     "name": "stdout",
     "output_type": "stream",
     "text": [
      "string after converting into lower case: priya\n"
     ]
    }
   ],
   "source": [
    "str=\"priya\"\n",
    "print(\"string after converting into lower case:\",str.lower())"
   ]
  },
  {
   "cell_type": "markdown",
   "id": "fcb179ce-35ae-4450-b56f-f950f86ea138",
   "metadata": {},
   "source": [
    "*5.Count the number of vowel in a string."
   ]
  },
  {
   "cell_type": "code",
   "execution_count": 16,
   "id": "683c795a-5af0-4de6-9772-63d6462bc1db",
   "metadata": {},
   "outputs": [
    {
     "name": "stdin",
     "output_type": "stream",
     "text": [
      "Enter sentence: data science course\n"
     ]
    },
    {
     "name": "stdout",
     "output_type": "stream",
     "text": [
      "Total number of vowels in the string= 8\n"
     ]
    }
   ],
   "source": [
    "str1=input(\"Enter sentence:\")\n",
    "count=0\n",
    "for i in str1:\n",
    "    if(i=='a'or i=='e'or i=='i'or i=='o'or i=='u' or i=='A' or i=='E' or i==\"O\" or i=='U'):\n",
    "        count=count+1\n",
    "print(\"Total number of vowels in the string=\",count)\n"
   ]
  },
  {
   "cell_type": "markdown",
   "id": "1b78f5ad-7a33-4b4c-958e-4ab24b8b65d4",
   "metadata": {},
   "source": [
    "*6. count the number of consontants in string."
   ]
  },
  {
   "cell_type": "code",
   "execution_count": 17,
   "id": "9a31c78a-9d1d-425a-a08f-34c9ef47ff66",
   "metadata": {},
   "outputs": [
    {
     "name": "stdin",
     "output_type": "stream",
     "text": [
      "Enter string manhas\n"
     ]
    },
    {
     "name": "stdout",
     "output_type": "stream",
     "text": [
      "Number of Consontants: 4\n"
     ]
    }
   ],
   "source": [
    "# first we are just taking string  \n",
    "str=input(\"Enter string\")\n",
    "count=0\n",
    "#count is used to just count consontants\n",
    "for char in str:\n",
    "    if char not in \"aeiouAEIOU\":\n",
    "        count=count+1;\n",
    "print(\"Number of Consontants:\",count)\n"
   ]
  },
  {
   "cell_type": "markdown",
   "id": "fdbb84a6-d5c3-4973-aea6-bbb164e620d1",
   "metadata": {},
   "source": [
    "*7 Remove all whitespaces from string."
   ]
  },
  {
   "cell_type": "code",
   "execution_count": 6,
   "id": "074ce8d6-081f-45e2-ba68-9b4feb54d4e6",
   "metadata": {},
   "outputs": [
    {
     "name": "stdout",
     "output_type": "stream",
     "text": [
      "string after removing white space it: pwskill\n",
      "string after removing whitespace: ramaamnhas\n"
     ]
    }
   ],
   "source": [
    "#white space of string can we remove with strip or also with replacea function.\n",
    "str=\" pwskill  \"\n",
    "print(\"string after removing white space it:\",str.strip())\n",
    "str2=\" rama amnhas \"\n",
    "print(\"string after removing whitespace:\",str2.replace(\" \",\"\"))"
   ]
  },
  {
   "cell_type": "markdown",
   "id": "cab5f21d-5219-4d4f-a877-46403f3bae81",
   "metadata": {},
   "source": [
    "*8 Find the length  of string without using the  'len() function."
   ]
  },
  {
   "cell_type": "code",
   "execution_count": 8,
   "id": "51501116-ce15-4b57-a1b5-cce6565ad95f",
   "metadata": {},
   "outputs": [
    {
     "name": "stdout",
     "output_type": "stream",
     "text": [
      "Total lenth  of string: 6\n"
     ]
    }
   ],
   "source": [
    "str=\"python\"\n",
    "count=0\n",
    "for i in str:\n",
    "    count=count+1\n",
    "print(\"Total lenth  of string:\",count)"
   ]
  },
  {
   "cell_type": "markdown",
   "id": "a675c531-feba-4518-8830-323631b71981",
   "metadata": {},
   "source": [
    "*9 Check if a string contain a specific word."
   ]
  },
  {
   "cell_type": "code",
   "execution_count": 9,
   "id": "e9f0be40-4e79-41ef-905b-4dafad23f040",
   "metadata": {},
   "outputs": [
    {
     "name": "stdout",
     "output_type": "stream",
     "text": [
      "word is present in string\n"
     ]
    }
   ],
   "source": [
    "# we can check it using various method \n",
    "str=\" my name is abc\"\n",
    "if \"name\" in str:\n",
    "    print(\"word is present in string\")\n",
    "else:\n",
    "    print(\"word is not present in string\")"
   ]
  },
  {
   "cell_type": "code",
   "execution_count": 10,
   "id": "1c231a54-a40d-4b54-a136-9cfec5507520",
   "metadata": {},
   "outputs": [
    {
     "name": "stdout",
     "output_type": "stream",
     "text": [
      "string contain specific word: 2\n"
     ]
    }
   ],
   "source": [
    "# another method is to check string contain word or not is find() as we know find is used to tell\n",
    "# first occurence of word\n",
    "str=\"i am student\"\n",
    "print(\"string contain specific word:\",str.find(\"am\"))"
   ]
  },
  {
   "cell_type": "markdown",
   "id": "44fa9802-42aa-41a9-b4a0-55b7b668e754",
   "metadata": {},
   "source": [
    "*10.Replace a word in s string with another word."
   ]
  },
  {
   "cell_type": "code",
   "execution_count": 11,
   "id": "88b02133-0ce0-4557-907b-7344f00a46fc",
   "metadata": {},
   "outputs": [
    {
     "name": "stdout",
     "output_type": "stream",
     "text": [
      "Word after in a string replace with nother word: pyohon\n"
     ]
    }
   ],
   "source": [
    "str=\"python\"\n",
    "print(\"Word after in a string replace with nother word:\",str.replace(\"t\",\"o\"))"
   ]
  },
  {
   "cell_type": "markdown",
   "id": "293f3587-f0fd-4127-b276-33828122bb4b",
   "metadata": {},
   "source": [
    "*11.Count the occurance of a word in string."
   ]
  },
  {
   "cell_type": "code",
   "execution_count": 13,
   "id": "b71acd31-b56e-454d-8767-64a83c4d1eb5",
   "metadata": {},
   "outputs": [
    {
     "name": "stdout",
     "output_type": "stream",
     "text": [
      "count occurance of word in string: 1\n"
     ]
    }
   ],
   "source": [
    "# simple by using count() function we are able to count word in string.\n",
    "str=\"jupyter\"\n",
    "print(\"count occurance of word in string:\",str.count(\"t\"))"
   ]
  },
  {
   "cell_type": "markdown",
   "id": "5b5a495a-2e6f-4edf-ac97-9d0e9ae4e0df",
   "metadata": {},
   "source": [
    "12.Find the first occurnace of word in string."
   ]
  },
  {
   "cell_type": "code",
   "execution_count": 14,
   "id": "fc853fe5-0b44-40ae-a014-3780989b798f",
   "metadata": {},
   "outputs": [
    {
     "name": "stdout",
     "output_type": "stream",
     "text": [
      " first occurnace of word in string: 12\n"
     ]
    }
   ],
   "source": [
    "# simple done by using find() function help to tell first occurance of every word.\n",
    "str=\"pythonprogramme\"\n",
    "print(\" first occurnace of word in string:\",str.find('m'))"
   ]
  },
  {
   "cell_type": "markdown",
   "id": "e27391f9-f261-4e96-9f26-2df857d3a26e",
   "metadata": {},
   "source": [
    "13.Find the last occurance of word in string."
   ]
  },
  {
   "cell_type": "code",
   "execution_count": 17,
   "id": "e52cd458-0cae-4835-9b30-c95a984a0bce",
   "metadata": {},
   "outputs": [
    {
     "name": "stdout",
     "output_type": "stream",
     "text": [
      " last occurance of word in string: 1\n"
     ]
    }
   ],
   "source": [
    "# simple done by using rfind() function help to fin last occurance of word.or also done by rindex()\n",
    "str=\"pythonprogramme\"\n",
    "print(\" last occurance of word in string:\",str.rfind('y'))"
   ]
  },
  {
   "cell_type": "markdown",
   "id": "1dfff4fc-80cc-4b9e-92e5-44bf7e36459b",
   "metadata": {},
   "source": [
    "14.split a string into a list of word."
   ]
  },
  {
   "cell_type": "code",
   "execution_count": 28,
   "id": "78faca45-c7a3-48c8-bae2-27596f3d4e35",
   "metadata": {},
   "outputs": [
    {
     "name": "stdout",
     "output_type": "stream",
     "text": [
      "['p', 'w', 's', 'k', 'i', 'l', 'l']\n"
     ]
    }
   ],
   "source": [
    "str1=\"pwskill\"\n",
    "str2=[i for i in str1]\n",
    "print(str2)"
   ]
  },
  {
   "cell_type": "markdown",
   "id": "5e3c7104-daf9-447b-8c94-fbaf314b31aa",
   "metadata": {},
   "source": [
    "15. split a list of words into string."
   ]
  },
  {
   "cell_type": "code",
   "execution_count": 30,
   "id": "4ed5b026-0b5c-40c0-b927-1db4ca29fa76",
   "metadata": {},
   "outputs": [
    {
     "name": "stdout",
     "output_type": "stream",
     "text": [
      "pwskill\n"
     ]
    }
   ],
   "source": [
    "list=['p','w','s','k','i','l','l']\n",
    "print(\"\".join(list))"
   ]
  },
  {
   "cell_type": "markdown",
   "id": "65b5c926-0df4-408b-8bbe-c929c3bb068e",
   "metadata": {},
   "source": [
    "16.convert a string where........"
   ]
  },
  {
   "cell_type": "code",
   "execution_count": 32,
   "id": "ed20e20c-8415-408b-b3f4-97da2ce642f4",
   "metadata": {},
   "outputs": [
    {
     "name": "stdout",
     "output_type": "stream",
     "text": [
      "after removing white space: ['my', 'name', 'is', 'abc']\n",
      "my_name_is_abc\n"
     ]
    }
   ],
   "source": [
    "str1=\" my name is abc\"\n",
    "str2=\"_\".join(str1.split())\n",
    "print(\"after removing white space:\",str1.split())\n",
    "print(str2)"
   ]
  },
  {
   "cell_type": "markdown",
   "id": "2fbbebec-bc2f-43f5-afff-d5f6839ae86a",
   "metadata": {},
   "source": [
    " 17.Check if a string  start with specific word or phrase."
   ]
  },
  {
   "cell_type": "code",
   "execution_count": 34,
   "id": "38dfbb08-0e13-4490-b05c-0df85c9272fa",
   "metadata": {},
   "outputs": [
    {
     "name": "stdout",
     "output_type": "stream",
     "text": [
      " string with specific word: True\n"
     ]
    }
   ],
   "source": [
    "str=\"python is easy\"\n",
    "print(\" string start with specific word:\",str.startswith('python'))"
   ]
  },
  {
   "cell_type": "markdown",
   "id": "1b6e98b6-3175-4b44-9328-10872df5ae2d",
   "metadata": {},
   "source": [
    "18.check string is end with specific word ..."
   ]
  },
  {
   "cell_type": "code",
   "execution_count": 35,
   "id": "b0161066-aae5-48d2-8e6c-2426d376d39a",
   "metadata": {},
   "outputs": [
    {
     "name": "stdout",
     "output_type": "stream",
     "text": [
      " string  ends with specific word: False\n"
     ]
    }
   ],
   "source": [
    "str=\"python is easy\"\n",
    "print(\" string  ends with specific word:\",str.endswith('python'))"
   ]
  },
  {
   "cell_type": "markdown",
   "id": "62d964d3-712d-450a-aff9-2b4ec12d4a15",
   "metadata": {},
   "source": [
    "19. Convert a string to title case..."
   ]
  },
  {
   "cell_type": "code",
   "execution_count": 36,
   "id": "14dc5510-0dba-401c-a70d-454c9b026fe2",
   "metadata": {},
   "outputs": [
    {
     "name": "stdout",
     "output_type": "stream",
     "text": [
      " string after converting into title case: Programming Is Important\n"
     ]
    }
   ],
   "source": [
    "str=\"programming is important\"\n",
    "print(\" string after converting into title case:\",str.title())"
   ]
  },
  {
   "cell_type": "markdown",
   "id": "54a19372-4a48-4c11-b373-4c1cbbe41bd0",
   "metadata": {},
   "source": [
    "20.Find the longest word in string...."
   ]
  },
  {
   "cell_type": "code",
   "execution_count": 53,
   "id": "7e5be388-3fb7-466f-9106-58e3d622deb4",
   "metadata": {},
   "outputs": [
    {
     "name": "stdin",
     "output_type": "stream",
     "text": [
      "Enter a String:  python is proframming\n"
     ]
    },
    {
     "name": "stdout",
     "output_type": "stream",
     "text": [
      "Longest word:  proframming\n",
      "Position of Longest word:  10\n"
     ]
    }
   ],
   "source": [
    "# Read input string\n",
    "str = input(\"Enter a String: \")\n",
    "# Split the string to a list of words\n",
    "word_list = str.split()\n",
    "# Find the longest word\n",
    "longest_word = max(word_list, key = len)\n",
    "# Find the position (index) of longest word\n",
    "pos = str.index(longest_word)\n",
    "# Print the longest word and it's position\n",
    "print(\"Longest word: \",longest_word)\n",
    "print(\"Position of Longest word: \", pos)\n"
   ]
  },
  {
   "cell_type": "markdown",
   "id": "ba64ce4e-a772-4afa-a631-a6611db568b9",
   "metadata": {},
   "source": [
    "21.Find shortest word in string....."
   ]
  },
  {
   "cell_type": "code",
   "execution_count": 54,
   "id": "2c180afd-128d-49d8-89e1-d3cd5f8d8464",
   "metadata": {},
   "outputs": [
    {
     "name": "stdin",
     "output_type": "stream",
     "text": [
      "Enter some text:  python is program\n"
     ]
    },
    {
     "name": "stdout",
     "output_type": "stream",
     "text": [
      "Shortest word is:  is\n",
      "And its length is:  2\n"
     ]
    }
   ],
   "source": [
    "# Reading text from user\n",
    "text = input(\"Enter some text: \")\n",
    "# Finding longest word\n",
    "shortest = min(text.split(), key=len)\n",
    "# Displaying longest word\n",
    "print(\"Shortest word is: \", shortest)\n",
    "print(\"And its length is: \", len(shortest))"
   ]
  },
  {
   "cell_type": "markdown",
   "id": "664b0675-7a1f-4c4d-9c12-eb55af85e2fc",
   "metadata": {},
   "source": [
    "22.Reverse the order of words in a string."
   ]
  },
  {
   "cell_type": "code",
   "execution_count": 46,
   "id": "c35f8b17-6625-4f8a-8e9c-23f331b99bb3",
   "metadata": {},
   "outputs": [
    {
     "name": "stdout",
     "output_type": "stream",
     "text": [
      "best the is programming\n"
     ]
    }
   ],
   "source": [
    "str=\" programming is the best\"\n",
    "s=str.split()[::-1]\n",
    "l=[]\n",
    "for i in s :\n",
    "    l.append(i)\n",
    "print(\" \".join(l))"
   ]
  },
  {
   "cell_type": "markdown",
   "id": "f2b743bd-5522-409c-8342-7714b5d753ca",
   "metadata": {},
   "source": [
    "23.Check if string is alphanum...."
   ]
  },
  {
   "cell_type": "code",
   "execution_count": 47,
   "id": "69578862-f45a-4202-94eb-8d6b51339400",
   "metadata": {},
   "outputs": [
    {
     "name": "stdout",
     "output_type": "stream",
     "text": [
      "Is string is alphanumeric: True\n"
     ]
    }
   ],
   "source": [
    "str=\"programning\"\n",
    "print(\"Is string is alphanumeric:\",str.isalnum())"
   ]
  },
  {
   "cell_type": "markdown",
   "id": "f48af396-0393-4929-87d5-b594d2c8877b",
   "metadata": {},
   "source": [
    "24.Extract all digits from string."
   ]
  },
  {
   "cell_type": "code",
   "execution_count": 50,
   "id": "5630e127-79cb-474c-bd1a-5508ddefedbd",
   "metadata": {},
   "outputs": [
    {
     "name": "stdout",
     "output_type": "stream",
     "text": [
      "the digit in string: [1234]\n"
     ]
    }
   ],
   "source": [
    "str=\"program 1234 is my \"\n",
    "str1=[int (i) for i in str.split() if i.isdigit()]\n",
    "print(\"the digit in string:\",str1)"
   ]
  },
  {
   "cell_type": "markdown",
   "id": "74d58dc4-c83a-4502-b618-02b0bf117f47",
   "metadata": {},
   "source": [
    "25.extaxt alphabet......."
   ]
  },
  {
   "cell_type": "code",
   "execution_count": 58,
   "id": "6be9c972-9252-45a0-bab2-a2b745969009",
   "metadata": {},
   "outputs": [
    {
     "name": "stdin",
     "output_type": "stream",
     "text": [
      "Enter a string:  python is 123 my\n"
     ]
    },
    {
     "name": "stdout",
     "output_type": "stream",
     "text": [
      "pythonismy\n"
     ]
    }
   ],
   "source": [
    "string = input(\"Enter a string: \")\n",
    "only_alpha = \"\"\n",
    "for char in string:\n",
    "##checking whether the char is an alphabet or not using chr.isalpha() method\n",
    "    if char.isalpha():\n",
    "        only_alpha += char\n",
    "## printing the string which contains only alphabets\n",
    "print(only_alpha)"
   ]
  },
  {
   "cell_type": "markdown",
   "id": "12d62805-dd73-43ac-80f5-a273421adb1f",
   "metadata": {},
   "source": [
    "26.Count  the number of uppercase  letter in string."
   ]
  },
  {
   "cell_type": "code",
   "execution_count": 60,
   "id": "0d9cac85-8290-44cc-b7dc-f1e6d0d023e1",
   "metadata": {},
   "outputs": [
    {
     "name": "stdin",
     "output_type": "stream",
     "text": [
      "Enter string: string IS  collEction\n"
     ]
    },
    {
     "name": "stdout",
     "output_type": "stream",
     "text": [
      "The number of uppercase characters is:\n",
      "3\n"
     ]
    }
   ],
   "source": [
    "string=input(\"Enter string:\")\n",
    "count=0\n",
    "for i in string:\n",
    "      if(i.isupper()):\n",
    "            count=count+1\n",
    "print(\"The number of uppercase characters is:\")\n",
    "print(count)"
   ]
  },
  {
   "cell_type": "markdown",
   "id": "a339bc8f-be75-4c9b-a0a1-9664e33e0fda",
   "metadata": {},
   "source": [
    "27.Count the number of lower case letter..."
   ]
  },
  {
   "cell_type": "code",
   "execution_count": 62,
   "id": "eb172b61-12a2-4fdf-9498-d3256429370b",
   "metadata": {},
   "outputs": [
    {
     "name": "stdin",
     "output_type": "stream",
     "text": [
      "Enter string: python IS EASY\n"
     ]
    },
    {
     "name": "stdout",
     "output_type": "stream",
     "text": [
      "The number of lowercase characters is:\n",
      "6\n"
     ]
    }
   ],
   "source": [
    "string=input(\"Enter string:\")\n",
    "count=0\n",
    "for i in string:\n",
    "      if(i.islower()):\n",
    "            count=count+1\n",
    "print(\"The number of lowercase characters is:\")\n",
    "print(count)"
   ]
  },
  {
   "cell_type": "markdown",
   "id": "ece31a28-a357-433e-b788-3b1983beb8ac",
   "metadata": {},
   "source": [
    "28. swap the case of each character in a string."
   ]
  },
  {
   "cell_type": "code",
   "execution_count": 64,
   "id": "40ce40bb-e8d4-431e-9990-915324345220",
   "metadata": {},
   "outputs": [
    {
     "name": "stdout",
     "output_type": "stream",
     "text": [
      "rAmA manHAS\n"
     ]
    }
   ],
   "source": [
    "name = \"RaMa MANhas\"\n",
    "# converts lowercase to uppercase and vice versa\n",
    "print(name.swapcase())"
   ]
  },
  {
   "cell_type": "markdown",
   "id": "3e5d4309-08d2-4bf8-a387-ce74893b66db",
   "metadata": {},
   "source": [
    "29.Remove a specific word from string."
   ]
  },
  {
   "cell_type": "code",
   "execution_count": 66,
   "id": "68278551-a4ad-42cd-b281-59aa55f5610d",
   "metadata": {},
   "outputs": [
    {
     "name": "stdout",
     "output_type": "stream",
     "text": [
      "string after removing specific word: pytnon\n"
     ]
    }
   ],
   "source": [
    "str=\"python\"\n",
    "print(\"string after removing specific word:\",str.replace('h','n'))"
   ]
  },
  {
   "cell_type": "markdown",
   "id": "fe799027-d09c-4de2-8707-f5d48adb5c59",
   "metadata": {},
   "source": [
    "30.check string contain  valid...."
   ]
  },
  {
   "cell_type": "code",
   "execution_count": 67,
   "id": "93da4aec-3441-44be-ad66-eadeaafdec35",
   "metadata": {},
   "outputs": [
    {
     "name": "stdout",
     "output_type": "stream",
     "text": [
      "Valid email address\n"
     ]
    }
   ],
   "source": [
    "import re   \n",
    "def validate_email(email):  \n",
    "    if re.match(r\"[^@]+@[^@]+\\.[^@]+\", email):  \n",
    "        return True  \n",
    "    return False  \n",
    "  \n",
    "email = \"example@domain.com\"  \n",
    "if validate_email(email):  \n",
    "    print(\"Valid email address\")  "
   ]
  },
  {
   "cell_type": "markdown",
   "id": "bc601071-8531-4e6b-9796-e53598dd5221",
   "metadata": {},
   "source": [
    "31.Extract the username from an email address string."
   ]
  },
  {
   "cell_type": "code",
   "execution_count": 68,
   "id": "8b0b3968-1fb2-449c-b6c2-ff379adfaa7f",
   "metadata": {},
   "outputs": [
    {
     "name": "stdout",
     "output_type": "stream",
     "text": [
      "['@richard01', '@freddy023']\n"
     ]
    }
   ],
   "source": [
    "import re\n",
    "string = \"Hey @richard01 what time are we meeting @freddy023?\"\n",
    "usernames = re.findall(\"\\B@\\w+\",string)\n",
    "print(usernames)\n"
   ]
  },
  {
   "cell_type": "markdown",
   "id": "13581107-3aa8-425b-bdf8-33149e609e82",
   "metadata": {},
   "source": [
    "32.Extract the domain names from an email address string."
   ]
  },
  {
   "cell_type": "code",
   "execution_count": 70,
   "id": "de5e298b-7a40-4fe6-a9ce-b27a6ff32576",
   "metadata": {},
   "outputs": [
    {
     "name": "stdin",
     "output_type": "stream",
     "text": [
      "Enter email address  ramamanhas2002@gamil.com\n"
     ]
    },
    {
     "name": "stdout",
     "output_type": "stream",
     "text": [
      "Given email address is ramamanhas2002@gamil.com\n",
      "Domain name is gamil.com\n"
     ]
    }
   ],
   "source": [
    "s= input(\"Enter email address \")\n",
    "print(\"Given email address is \"+s)\n",
    "l=s.split('@')                      \n",
    "print(\"Domain name is \"+l[1])"
   ]
  },
  {
   "cell_type": "markdown",
   "id": "75e9747d-15a3-44b8-b0e1-afdc68eac2f0",
   "metadata": {},
   "source": [
    "33.Replace multiple space in string ............."
   ]
  },
  {
   "cell_type": "code",
   "execution_count": 2,
   "id": "745dcabc-b52f-4cbd-8573-a3db228be048",
   "metadata": {},
   "outputs": [
    {
     "name": "stdout",
     "output_type": "stream",
     "text": [
      "My name is abcd\n"
     ]
    }
   ],
   "source": [
    "def spaces(input_string):\n",
    "    cleaned_string = ' '.join(input_string.split()) \n",
    "    return cleaned_string\n",
    "# split the string on each whitespace character.\n",
    "#Use the str. join() method to join the list of strings with a space.\n",
    "input_string = \"My name    is abcd  \"\n",
    "result = spaces(input_string)\n",
    "print(result)"
   ]
  },
  {
   "cell_type": "markdown",
   "id": "15392d12-3854-406f-9a9d-5ed1d1825fb8",
   "metadata": {},
   "source": [
    "34.Check if string a is a valid URL."
   ]
  },
  {
   "cell_type": "code",
   "execution_count": 4,
   "id": "981b44fd-9ca4-41a4-893a-cb75411fcdc0",
   "metadata": {},
   "outputs": [
    {
     "name": "stdout",
     "output_type": "stream",
     "text": [
      "True\n",
      "False\n"
     ]
    }
   ],
   "source": [
    "from urllib.parse import urlparse\n",
    "def valid_url(url):\n",
    "    try:\n",
    "        result = urlparse(url)\n",
    "        return all([result.scheme, result.netloc]) \n",
    "    except ValueError:\n",
    "        return False\n",
    "url1 = \"https://www.example.com\"\n",
    "url2 = \"wrong-url\"\n",
    "result1 = valid_url(url1)\n",
    "result2 = valid_url(url2)\n",
    "print(result1)  # Should print True if valid\n",
    "print(result2)  # Should print Flase if it is not true"
   ]
  },
  {
   "cell_type": "markdown",
   "id": "aeb144b4-1999-4cfa-913a-0c3b2b7c71f4",
   "metadata": {},
   "source": [
    "35.Extract the protocol ........."
   ]
  },
  {
   "cell_type": "code",
   "execution_count": 5,
   "id": "a6cd51b0-2a43-4edb-998c-6b0f5e52b5b5",
   "metadata": {},
   "outputs": [
    {
     "name": "stdout",
     "output_type": "stream",
     "text": [
      "Protocol 1: https\n",
      "Protocol 2: http\n",
      "Protocol 3: ftp\n"
     ]
    }
   ],
   "source": [
    "def extract_protocol(url):\n",
    "    protocol_end = url.find(\"://\")\n",
    "    if protocol_end != -1:\n",
    "        # Extract the protocol from the URL\n",
    "        protocol = url[:protocol_end]\n",
    "        return protocol\n",
    "    else:\n",
    "        return None\n",
    "# Example URL strings\n",
    "url1 = \"https://www.example.com\"\n",
    "url2 = \"http://google.com\"\n",
    "url3 = \"ftp://ftp.example.com\"\n",
    "# Extract protocols\n",
    "protocol1 = extract_protocol(url1)\n",
    "protocol2 = extract_protocol(url2)\n",
    "protocol3 = extract_protocol(url3)\n",
    "# Print extracted protocols\n",
    "print(\"Protocol 1:\", protocol1)\n",
    "print(\"Protocol 2:\", protocol2)\n",
    "print(\"Protocol 3:\", protocol3)"
   ]
  },
  {
   "cell_type": "markdown",
   "id": "6ceee41c-bcc0-4daf-b673-1a25e1badc88",
   "metadata": {},
   "source": [
    "36.Find the frquency of each......"
   ]
  },
  {
   "cell_type": "code",
   "execution_count": 7,
   "id": "b001be41-278c-414f-8a92-6577f1ecffe3",
   "metadata": {},
   "outputs": [
    {
     "name": "stdout",
     "output_type": "stream",
     "text": [
      "Character: 'h', Frequency: 2\n",
      "Character: 'y', Frequency: 2\n",
      "Character: 'e', Frequency: 1\n",
      "Character: ' ', Frequency: 2\n",
      "Character: 'i', Frequency: 1\n",
      "Character: 's', Frequency: 1\n",
      "Character: 'p', Frequency: 1\n",
      "Character: 't', Frequency: 1\n",
      "Character: 'o', Frequency: 1\n",
      "Character: 'n', Frequency: 1\n"
     ]
    }
   ],
   "source": [
    "def character_frequency(input_string):\n",
    "    frequency = {} \n",
    "    for char in input_string:\n",
    "        if char in frequency:\n",
    "            frequency[char] += 1  #increment frequency\n",
    "        else:\n",
    "            frequency[char] = 1   # Initialize the frequency\n",
    "    return frequency\n",
    "input_str = \"hye is python\"\n",
    "# Calculate character frequencies\n",
    "char_freq = character_frequency(input_str)\n",
    "# Print character frequencies\n",
    "for char, freq in char_freq.items():\n",
    "    print(f\"Character: '{char}', Frequency: {freq}\")"
   ]
  },
  {
   "cell_type": "markdown",
   "id": "abe3c6dc-c89a-48b6-95c3-30401b77845f",
   "metadata": {},
   "source": [
    "37.Remove all punctuation from string."
   ]
  },
  {
   "cell_type": "code",
   "execution_count": 8,
   "id": "a2d4004d-efc8-4c06-972e-918832aa8060",
   "metadata": {},
   "outputs": [
    {
     "name": "stdout",
     "output_type": "stream",
     "text": [
      "Original string: what, makes python difficult?\n",
      "Cleaned string: what makes python difficult\n"
     ]
    }
   ],
   "source": [
    "import string\n",
    "def remove_punctuation(input_string):\n",
    "    # Create a translation table to remove punctuation\n",
    "    translator = str.maketrans(\"\", \"\", string.punctuation)\n",
    "    clean_string = input_string.translate(translator)\n",
    "    return clean_string\n",
    "input_str = \"what, makes python difficult?\"\n",
    "cleaned_str = remove_punctuation(input_str)\n",
    "# Print the cleaned string\n",
    "print(\"Original string:\", input_str)\n",
    "print(\"Cleaned string:\", cleaned_str)"
   ]
  },
  {
   "cell_type": "markdown",
   "id": "da84bede-8ee3-445c-9ac4-e56eaf821399",
   "metadata": {},
   "source": [
    "38.check if string contain only......"
   ]
  },
  {
   "cell_type": "code",
   "execution_count": 9,
   "id": "6b76edff-5941-477e-b037-dbb33eef00be",
   "metadata": {},
   "outputs": [
    {
     "name": "stdout",
     "output_type": "stream",
     "text": [
      "'hye' contains only digits: False\n",
      "'123' contains only digits: True\n",
      "'66.89' contains only digits: False\n"
     ]
    }
   ],
   "source": [
    "def contains_only_digits(input_string):\n",
    "    # Check if all characters in the string are digits\n",
    "    return input_string.isdigit()\n",
    "string1 = \"hye\"\n",
    "string2 = \"123\"\n",
    "string3 = \"66.89\"#check string contain character\n",
    "result1 = contains_only_digits(string1)\n",
    "result2 = contains_only_digits(string2)\n",
    "result3 = contains_only_digits(string3)\n",
    "print(f\"'{string1}' contains only digits:\", result1)\n",
    "print(f\"'{string2}' contains only digits:\", result2)\n",
    "print(f\"'{string3}' contains only digits:\", result3)"
   ]
  },
  {
   "cell_type": "markdown",
   "id": "78ab6686-6903-4c29-9ee4-cc744ae52468",
   "metadata": {},
   "source": [
    "39.check if a string contain only alphabets..."
   ]
  },
  {
   "cell_type": "code",
   "execution_count": 12,
   "id": "a41fd529-0ee4-43f5-be64-38d8be9494a6",
   "metadata": {},
   "outputs": [
    {
     "name": "stdout",
     "output_type": "stream",
     "text": [
      "string contain alphabet only: True\n"
     ]
    }
   ],
   "source": [
    "str=\"Pwskill\"\n",
    "#rather than using function method we are having function throught which we check string \n",
    "#contain only aplhbets is isalpha()\n",
    "print(\"string contain alphabet only:\",str.isalpha())"
   ]
  },
  {
   "cell_type": "markdown",
   "id": "75196934-0073-4ead-9a0f-787e142e3cb1",
   "metadata": {},
   "source": [
    "40.convert string to list of character....."
   ]
  },
  {
   "cell_type": "code",
   "execution_count": 15,
   "id": "64096c42-09a1-4a3d-8b38-0f229c52f58f",
   "metadata": {},
   "outputs": [
    {
     "name": "stdout",
     "output_type": "stream",
     "text": [
      "string before converting: Pwskills\n",
      "string after getting converted into list: ['P', 'w', 's', 'k', 'i', 'l', 'l', 's']\n"
     ]
    }
   ],
   "source": [
    "str=\"Pwskills\"\n",
    "# we can having easy method to convert string to list of charcter is typecasting\n",
    "print(\"string before converting:\",str)\n",
    "print(\"string after getting converted into list:\",list(str))"
   ]
  },
  {
   "cell_type": "markdown",
   "id": "cd09eac1-256d-42e4-8776-fb942e938e5e",
   "metadata": {},
   "source": [
    "41.Check if two string strings are arrguments...."
   ]
  },
  {
   "cell_type": "code",
   "execution_count": 18,
   "id": "7eff5ecf-1789-42da-b43c-1493dd504579",
   "metadata": {},
   "outputs": [
    {
     "name": "stdout",
     "output_type": "stream",
     "text": [
      "string 1: listen\n",
      "string 2: silent\n",
      "string result is are_anagrams ('listen', 'silent')\n"
     ]
    }
   ],
   "source": [
    "string1 = \"listen\"\n",
    "string2 = \"silent\"\n",
    "print(\"string 1:\",string1)\n",
    "print(\"string 2:\",string2)\n",
    "if sorted(string1)==sorted(string2):\n",
    "    print(\"string result is are_anagrams\",(string1, string2))\n",
    "else:\n",
    "    print(\"not are_anagrams\")"
   ]
  },
  {
   "cell_type": "markdown",
   "id": "3d36e13d-c2c9-4729-99ca-9a40bc1676c9",
   "metadata": {},
   "source": [
    "42.Encode a string using a caser cipher."
   ]
  },
  {
   "cell_type": "code",
   "execution_count": 23,
   "id": "a9b88a59-53a0-4d1b-a6e3-4dcc1b5a0802",
   "metadata": {},
   "outputs": [
    {
     "name": "stdout",
     "output_type": "stream",
     "text": [
      "Decoded text: ilmm, world!\n"
     ]
    }
   ],
   "source": [
    "# Define a function to decode a string using a Caesar cipher\n",
    "def caesar_cipher_decoder(text, shift):\n",
    "    # Initialize an empty string to store the decoded text\n",
    "    decoded_text = \"\"\n",
    "    # Loop through each character in the input text\n",
    "    for char in text:\n",
    "        # Check if the character is an alphabetic character\n",
    "        if char.isalpha():\n",
    "            # Calculate the decoded character using the shift value\n",
    "            decoded_char = chr((ord(char) - shift - ord('a')) % 26 + ord('a'))\n",
    "        else:\n",
    "            # If the character is not alphabetic, keep it unchanged\n",
    "            decoded_char = char\n",
    "\n",
    "        # Add the decoded character to the decoded text\n",
    "        decoded_text += decoded_char\n",
    "\n",
    "    # Return the fully decoded text\n",
    "    return decoded_text\n",
    "\n",
    "#  input\n",
    "text = \"lopp, zruog!\"\n",
    "shift = 3\n",
    "\n",
    "# Call the caesar_cipher_decoder function to decode the input text\n",
    "decoded_text = caesar_cipher_decoder(text, shift)\n",
    "\n",
    "# Print \n",
    "print(\"Decoded text:\", decoded_text)"
   ]
  },
  {
   "cell_type": "markdown",
   "id": "c4cd957c-bc89-4f4c-911d-bde999e7e329",
   "metadata": {},
   "source": [
    "44.Find the most frequent word in a string."
   ]
  },
  {
   "cell_type": "code",
   "execution_count": 28,
   "id": "fcaeaa96-9b13-47bd-9764-fd6482600f88",
   "metadata": {},
   "outputs": [
    {
     "name": "stdout",
     "output_type": "stream",
     "text": [
      "word: 'h', Frequent: 1\n",
      "word: 'y', Frequent: 1\n",
      "word: 'e', Frequent: 1\n",
      "word: 'm', Frequent: 3\n",
      "word: 't', Frequent: 1\n"
     ]
    }
   ],
   "source": [
    "def word_frequent(input_string):\n",
    "    frequent = {} \n",
    "    for char in input_string:\n",
    "        if char in frequent:\n",
    "            frequent[char] += 1  #increment frequency\n",
    "        else:\n",
    "            frequent[char] = 1   # Initialize the frequency\n",
    "    return frequent\n",
    "input_str = \"hyemmmt\"\n",
    "# Calculate word frequencies\n",
    "char_freq = word_frequent(input_str)\n",
    "# Print character frequencies\n",
    "for char, freq in char_freq.items():\n",
    "    print(f\"word: '{char}', Frequent: {freq}\")"
   ]
  },
  {
   "cell_type": "markdown",
   "id": "9fc461b7-c62d-4b27-a2e2-8851e79cd5db",
   "metadata": {},
   "source": [
    "45.find all unique words in sting....."
   ]
  },
  {
   "cell_type": "code",
   "execution_count": 30,
   "id": "c2904beb-e757-455d-b237-4f8e7a0e7090",
   "metadata": {},
   "outputs": [
    {
     "name": "stdout",
     "output_type": "stream",
     "text": [
      "Unique words: {'year', 'by', 'python', 'developed', 'is', 'abcd', 'the', 'in'}\n"
     ]
    }
   ],
   "source": [
    "import re\n",
    "\n",
    "def unique_words(input_string):\n",
    "    # Remove punctuation and convert to lowercase\n",
    "    clean_string = re.sub(r'[^\\w\\s]', '', input_string).lower()\n",
    "    # Split the string into words and convert to a set for uniqueness\n",
    "    words = set(clean_string.split())\n",
    "    return words\n",
    "input_str = \"python is developed by the abcd in abcd year?\"\n",
    "unique_word_set = unique_words(input_str)\n",
    "print(\"Unique words:\", unique_word_set)"
   ]
  },
  {
   "cell_type": "markdown",
   "id": "86150857-80af-4e3f-bfc0-091c13be2a52",
   "metadata": {},
   "source": [
    "46.Count the number of syllables in a string.........."
   ]
  },
  {
   "cell_type": "code",
   "execution_count": 32,
   "id": "277f491b-4204-4de7-83f0-78a41c3cb668",
   "metadata": {},
   "outputs": [
    {
     "name": "stdout",
     "output_type": "stream",
     "text": [
      "In \"pwskill\" I count 1 syllables\n"
     ]
    }
   ],
   "source": [
    "def count_syllables(word):\n",
    "    word = word.lower()\n",
    "    counter = 0\n",
    "    is_previous_vowel = False\n",
    "    for index, value in enumerate(word):\n",
    "        if value in [\"a\", \"e\", \"i\", \"o\", \"u\", \"y\"]:\n",
    "            if index == len(word) - 1:\n",
    "                if value == \"e\":\n",
    "                    if counter == 0:\n",
    "                        counter += 1\n",
    "                else:\n",
    "                    counter += 1\n",
    "            else:\n",
    "                if is_previous_vowel == True:\n",
    "                    counter += 1\n",
    "                    is_previous_vowel = False\n",
    "                    break\n",
    "            is_previous_vowel = True\n",
    "        else:\n",
    "            if is_previous_vowel == True:\n",
    "                counter += 1\n",
    "            is_previous_vowel = False\n",
    "    print (\"In \\\"{}\\\" I count {} syllables\".format(word, counter))\n",
    "\n",
    "count_syllables(\"pwskill\")\n"
   ]
  },
  {
   "cell_type": "markdown",
   "id": "3eb9d6b5-baf2-4ee6-869c-014b532e5388",
   "metadata": {},
   "source": [
    "47.Check if a string contains any special characters."
   ]
  },
  {
   "cell_type": "code",
   "execution_count": 36,
   "id": "97bfd09d-c86c-484d-a307-fa63743f13cf",
   "metadata": {},
   "outputs": [
    {
     "name": "stdout",
     "output_type": "stream",
     "text": [
      "String is conatin special character\n"
     ]
    }
   ],
   "source": [
    "# import required package\n",
    "import re \n",
    "# Function checks if the string\n",
    "# contains any special character\n",
    "def run(string):\n",
    " \n",
    "    # Make own character set and pass\n",
    "    # this as argument in compile method\n",
    "    regex = re.compile('[@_!#$%^&*()<>?/\\|}{~:]')\n",
    "    #Pass the string in search\n",
    "    # method of regex object.   \n",
    "    if(regex.search(string) == None):\n",
    "        print(\"String is not conatin special character\")\n",
    "    else:\n",
    "        print(\"String is conatin special character\")\n",
    "if __name__ == '__main__' :\n",
    "    string = \"rama%$manhas@\"\n",
    "    run(string)"
   ]
  },
  {
   "cell_type": "markdown",
   "id": "a767bec7-a4cc-4235-91a4-91d997444b2d",
   "metadata": {},
   "source": [
    "48. Remove the nth word from a string.."
   ]
  },
  {
   "cell_type": "code",
   "execution_count": 40,
   "id": "f5ca8666-3df4-4d17-b348-0e66c776afd0",
   "metadata": {},
   "outputs": [
    {
     "name": "stdout",
     "output_type": "stream",
     "text": [
      "The original string is : hello words is python\n",
      "The Nth word removing from  String : is\n"
     ]
    }
   ],
   "source": [
    "# initializing string\n",
    "test_str = \"hello words is python\" \n",
    "# printing original string\n",
    "print(\"The original string is : \" + test_str)\n",
    "# initializing N\n",
    "N = 3\n",
    "# Get Nth word in String\n",
    "# using loop\n",
    "count = 0\n",
    "res = \"\"\n",
    "for ele in test_str:\n",
    "    if ele == ' ':\n",
    "        count = count + 1\n",
    "        if count == N:\n",
    "            break\n",
    "        res = \"\"\n",
    "    else :\n",
    "        res = res + ele\n",
    "print(\"The Nth word removing from  String : \" + res)"
   ]
  },
  {
   "cell_type": "markdown",
   "id": "e1798205-cc6b-4f0d-96f5-3e56902a93fc",
   "metadata": {},
   "source": [
    "49.Insert word at the nth position in a string."
   ]
  },
  {
   "cell_type": "code",
   "execution_count": 52,
   "id": "3f55bb34-c293-4e80-9230-2b1421312ccc",
   "metadata": {},
   "outputs": [
    {
     "name": "stdout",
     "output_type": "stream",
     "text": [
      "Adding 'M' at 3th index of an input string:\n",
      " RamMa\n"
     ]
    }
   ],
   "source": [
    "# input string\n",
    "inputString = \"Rama\"\n",
    "# adding character 'p' at a specific position i.e, at index 3\n",
    "inputString = inputString[:3] + 'M' + inputString[3:]\n",
    "\n",
    "# printing the resultant string \n",
    "print(\"Adding 'M' at 3th index of an input string:\\n\", inputString)\n"
   ]
  },
  {
   "cell_type": "markdown",
   "id": "9a76ed81-1d89-48ef-8b78-1fbf081a632b",
   "metadata": {},
   "source": [
    "50.Convert a CSV string to a list of lists."
   ]
  },
  {
   "cell_type": "code",
   "execution_count": 54,
   "id": "0fe68efc-2951-44a0-b45d-abddef1a2d68",
   "metadata": {},
   "outputs": [
    {
     "name": "stdout",
     "output_type": "stream",
     "text": [
      "['Name', ' Age', ' Country']\n",
      "['priys', ' 21', ' USA']\n",
      "['Alice', ' 30', ' Canada']\n",
      "['komal', ' 22', ' UK']\n"
     ]
    }
   ],
   "source": [
    "def csv_string_to_list(csv_string):\n",
    "    # Split the CSV string into lines\n",
    "    lines = csv_string.split('\\n')\n",
    "    # Initialize an empty list to store the result\n",
    "    result = []\n",
    "    for line in lines:\n",
    "        # Split each line into fields using comma as the delimiter\n",
    "        fields = line.split(',')\n",
    "        # Append the fields to the result list as a row\n",
    "        result.append(fields)\n",
    "    return result\n",
    "csv_data = \"Name, Age, Country\\npriys, 21, USA\\nAlice, 30, Canada\\nkomal, 22, UK\"\n",
    "# Convert CSV string to a list of lists\n",
    "list_of_lists = csv_string_to_list(csv_data)\n",
    "# Print the result\n",
    "for row in list_of_lists:\n",
    "    print(row)"
   ]
  },
  {
   "cell_type": "markdown",
   "id": "fcf627fd-5572-4f1a-bb59-e7caa84505ca",
   "metadata": {},
   "source": [
    "List Based practice problem.\n"
   ]
  },
  {
   "cell_type": "markdown",
   "id": "623c03fa-a08c-451a-99bd-8534d1d16384",
   "metadata": {},
   "source": [
    "1.Create a list with interger from 1 to 10. "
   ]
  },
  {
   "cell_type": "code",
   "execution_count": 1,
   "id": "65d9ba1d-6b25-4490-b753-fab6568010eb",
   "metadata": {},
   "outputs": [
    {
     "name": "stdout",
     "output_type": "stream",
     "text": [
      "[1, 2, 3, 4, 5, 6, 7, 8, 9, 10]\n"
     ]
    },
    {
     "data": {
      "text/plain": [
       "10"
      ]
     },
     "execution_count": 1,
     "metadata": {},
     "output_type": "execute_result"
    }
   ],
   "source": [
    "list=[1,2,3,4,5,6,7,8,9,10]\n",
    "print(list)"
   ]
  },
  {
   "cell_type": "markdown",
   "id": "9cc5244b-5579-46aa-836a-d0585cf3a88c",
   "metadata": {},
   "source": [
    "2.Find the length of list without using len() function....."
   ]
  },
  {
   "cell_type": "code",
   "execution_count": 4,
   "id": "7ea18ccf-eb48-4a5c-8b23-73ff8b17c03f",
   "metadata": {},
   "outputs": [
    {
     "name": "stdout",
     "output_type": "stream",
     "text": [
      "length of list without using length function: 10\n"
     ]
    }
   ],
   "source": [
    "#taking input as list\n",
    "l=[1,2,3,4,5,6,7,8,9,10]\n",
    "# count is used to count the length of list\n",
    "count=0\n",
    "for i in l:\n",
    "    count=count+1\n",
    "print(\"length of list without using length function:\",count)"
   ]
  },
  {
   "cell_type": "markdown",
   "id": "fd778711-4753-4cfa-8970-f15857edc494",
   "metadata": {},
   "source": [
    "3.Append an element to end of the list....."
   ]
  },
  {
   "cell_type": "code",
   "execution_count": 8,
   "id": "d97bc119-c3b9-4f7e-8a2f-99e92c7b1ebd",
   "metadata": {},
   "outputs": [
    {
     "name": "stdout",
     "output_type": "stream",
     "text": [
      "list before append element at the end: [23, 56, 78]\n",
      "List after append element at the end of list: [23, 56, 78, 90]\n"
     ]
    }
   ],
   "source": [
    "#intilizing list\n",
    "list=[23,56,78]\n",
    "print(\"list before append element at the end:\",list)\n",
    "# know we can simple add element in end of list\n",
    "list.append(90)\n",
    "print(\"List after append element at the end of list:\",list)"
   ]
  },
  {
   "cell_type": "markdown",
   "id": "d4abff2c-7abc-4922-9a48-76c39789d5aa",
   "metadata": {},
   "source": [
    "4.Insert an element at a specific index in a list."
   ]
  },
  {
   "cell_type": "code",
   "execution_count": 9,
   "id": "b16ce598-5965-4373-98bd-7218ba191b96",
   "metadata": {},
   "outputs": [
    {
     "name": "stdout",
     "output_type": "stream",
     "text": [
      "List before insert the element: ['pwskill', 234, 'third', 567]\n",
      "List after insert element at specific index: ['pwskill', 234, 'third', 'important', 567]\n"
     ]
    }
   ],
   "source": [
    "#intilizing list\n",
    "list=[\"pwskill\",234,\"third\",567]\n",
    "print(\"List before insert the element:\",list)\n",
    "#know we can insert element in list just by using insert function\n",
    "list.insert(3,\"important\")\n",
    "print(\"List after insert element at specific index:\",list)"
   ]
  },
  {
   "cell_type": "markdown",
   "id": "36623931-50c1-456e-a263-7b36f8e7ac93",
   "metadata": {},
   "source": [
    "5.Remove an element from a list by its value."
   ]
  },
  {
   "cell_type": "code",
   "execution_count": 2,
   "id": "f4d1f180-7a02-424a-b86a-118e47af9187",
   "metadata": {},
   "outputs": [
    {
     "name": "stdout",
     "output_type": "stream",
     "text": [
      "List without before  remove an element: ['pwskill', 234, 'third', 567]\n",
      "List after removing an element from list: ['pwskill', 'third', 567]\n"
     ]
    }
   ],
   "source": [
    "list=[\"pwskill\",234,\"third\",567]\n",
    "print(\"List without before  remove an element:\",list)\n",
    "# remove an element from list directly by using remove function\n",
    "list.remove(234)\n",
    "print(\"List after removing an element from list:\",list)"
   ]
  },
  {
   "cell_type": "markdown",
   "id": "56ea2419-daa5-4e75-85e1-e963770fff2a",
   "metadata": {},
   "source": [
    "6.Remove an element from list by its index.."
   ]
  },
  {
   "cell_type": "code",
   "execution_count": 5,
   "id": "6a999af1-2f6d-4db4-a711-11aacc3d26ec",
   "metadata": {},
   "outputs": [
    {
     "name": "stdout",
     "output_type": "stream",
     "text": [
      "List without before  remove an element from list by index: ['pwskill', 234, 'third', 567]\n",
      "List after removing an element from list by index: ['pwskill', 234, 567]\n"
     ]
    }
   ],
   "source": [
    "list=[\"pwskill\",234,\"third\",567]\n",
    "print(\"List without before  remove an element from list by index:\",list)\n",
    "# remove an element from list directly by using remove function pop()\n",
    "list.pop(2)\n",
    "print(\"List after removing an element from list by index:\",list)"
   ]
  },
  {
   "cell_type": "markdown",
   "id": "cd90fa20-ba19-4f99-a9d3-765f29526ce2",
   "metadata": {},
   "source": [
    "7.Check if an element exits in a list...."
   ]
  },
  {
   "cell_type": "code",
   "execution_count": 8,
   "id": "61b699d1-56d0-46af-8904-9bd13fee5fe3",
   "metadata": {},
   "outputs": [
    {
     "name": "stdout",
     "output_type": "stream",
     "text": [
      "30 exists in the list.\n"
     ]
    }
   ],
   "source": [
    "# we can check it by using loop \n",
    "my_list = [10, 20, 30, 40, 50]\n",
    "element_to_check = 30\n",
    "if element_to_check in my_list:\n",
    "    print(f\"{element_to_check} exists in the list.\")\n",
    "else:\n",
    "    print(f\"{element_to_check} does not exist in the list.\")"
   ]
  },
  {
   "cell_type": "markdown",
   "id": "8e8ae3e4-28ad-4751-a5c7-f746a9752900",
   "metadata": {},
   "source": [
    "8.Find the index of the first occurence  of an element....."
   ]
  },
  {
   "cell_type": "code",
   "execution_count": 14,
   "id": "44cc9eab-c961-4be1-8efe-55b6685a3bf5",
   "metadata": {},
   "outputs": [
    {
     "name": "stdout",
     "output_type": "stream",
     "text": [
      "first occurance of 20 is: 5\n"
     ]
    }
   ],
   "source": [
    "my_list = [10, 20, 30,20, 40, 50,50]\n",
    "#first occurence of an element check by using index() function\n",
    "print(\"first occurance of 20 is:\",my_list.index(50))"
   ]
  },
  {
   "cell_type": "markdown",
   "id": "60004573-7391-4b0c-956d-36b23b1972a5",
   "metadata": {},
   "source": [
    "9. Count the occurance of an element in a list."
   ]
  },
  {
   "cell_type": "code",
   "execution_count": 16,
   "id": "e37ce507-6eff-4506-bc01-0579f5ed4e16",
   "metadata": {},
   "outputs": [
    {
     "name": "stdout",
     "output_type": "stream",
     "text": [
      " count the occurance of the element: 2\n"
     ]
    }
   ],
   "source": [
    "#iintilizing the list \n",
    "my_list = [10,\"abcd\", 30,20, \"abcd\",40, \"priya\",50]\n",
    "# count the occurance of element directly by using count() functiom or also done by looping\n",
    "print(\" count the occurance of the element:\",my_list.count(\"abcd\"))"
   ]
  },
  {
   "cell_type": "markdown",
   "id": "efea29b0-ca69-43d2-9185-42ac18899355",
   "metadata": {},
   "source": [
    "10.Reverse the order of element in list."
   ]
  },
  {
   "cell_type": "code",
   "execution_count": 20,
   "id": "8fe6fce3-b372-4db4-a66b-5b438d864116",
   "metadata": {},
   "outputs": [
    {
     "name": "stdout",
     "output_type": "stream",
     "text": [
      "orignal list before reversing it: [10, 20, 30, 40, 50]\n",
      "revere order of element in list: [50, 40, 30, 20, 10]\n"
     ]
    }
   ],
   "source": [
    "# taking list\n",
    "my_list=[10,20,30,40,50]\n",
    "print(\"orignal list before reversing it:\",my_list)\n",
    "#reverse the order of element of list directlt by using reverse() function\n",
    "my_list.reverse()\n",
    "print(\"revere order of element in list:\",my_list)"
   ]
  },
  {
   "cell_type": "markdown",
   "id": "c307bc70-d6f7-4f5d-98b3-13e2151d1a83",
   "metadata": {},
   "source": [
    "11.Sort the element in ascending order."
   ]
  },
  {
   "cell_type": "code",
   "execution_count": 23,
   "id": "e8f594af-18bc-4518-bcb2-ba1c8ad499d5",
   "metadata": {},
   "outputs": [
    {
     "name": "stdout",
     "output_type": "stream",
     "text": [
      "before get sorted in ascending order: [4, 2, 1, 3, 5]\n",
      "after get sorted in ascending order: [1, 2, 3, 4, 5]\n"
     ]
    }
   ],
   "source": [
    "number=[4,2,1,3,5]\n",
    "print(\"before get sorted in ascending order:\",number)\n",
    "#sorting the list in ascending order\n",
    "number.sort()\n",
    "print(\"after get sorted in ascending order:\",number)\n"
   ]
  },
  {
   "cell_type": "markdown",
   "id": "888168fa-f36a-4d4f-85d6-c06a239a575c",
   "metadata": {},
   "source": [
    "12.Sort the element in descending order."
   ]
  },
  {
   "cell_type": "code",
   "execution_count": 27,
   "id": "b49998ce-cc49-4254-9f20-40b5edd9fb9c",
   "metadata": {},
   "outputs": [
    {
     "name": "stdout",
     "output_type": "stream",
     "text": [
      "before get sorted in ascending order: [1, 2, 3, 4, 5]\n",
      "after get sorted in ascending order: [5, 4, 3, 2, 1]\n"
     ]
    }
   ],
   "source": [
    "umber=[4,2,1,3,5]\n",
    "print(\"before get sorted in ascending order:\",number)\n",
    "#sorting the list in ascending order\n",
    "number.sort(reverse=True)\n",
    "print(\"after get sorted in ascending order:\",number)\n"
   ]
  },
  {
   "cell_type": "markdown",
   "id": "90893955-08e9-480f-ae4e-e7ea5fb288fd",
   "metadata": {},
   "source": [
    "13. Create a list of even number from1 to 20."
   ]
  },
  {
   "cell_type": "code",
   "execution_count": 29,
   "id": "4122dfbf-da21-4527-b120-17bd4be2a3ea",
   "metadata": {},
   "outputs": [
    {
     "name": "stdout",
     "output_type": "stream",
     "text": [
      "List of even numbers: [2, 4, 6, 8, 10, 12, 14, 16, 18, 20]\n"
     ]
    }
   ],
   "source": [
    "even_numbers = [x for x in range(2, 21, 2)]\n",
    "#  list of even numbers\n",
    "print(\"List of even numbers:\", even_numbers)"
   ]
  },
  {
   "cell_type": "markdown",
   "id": "04b6499c-037c-466d-a6ce-cc17de02f1db",
   "metadata": {},
   "source": [
    "14.Create a list of odd number from1 to 20."
   ]
  },
  {
   "cell_type": "code",
   "execution_count": 30,
   "id": "546dc376-e32c-436c-9675-1374ec0007ad",
   "metadata": {},
   "outputs": [
    {
     "name": "stdout",
     "output_type": "stream",
     "text": [
      "List of odd numbers: [1, 3, 5, 7, 9, 11, 13, 15, 17, 19]\n"
     ]
    }
   ],
   "source": [
    "odd_numbers = [x for x in range(1, 21, 2)]\n",
    "# list of odd numbers\n",
    "print(\"List of odd numbers:\", odd_numbers)"
   ]
  },
  {
   "cell_type": "markdown",
   "id": "336cd5f0-1d7e-47ce-9333-01a623a961b4",
   "metadata": {},
   "source": [
    "15. Find the sum of all element in a list."
   ]
  },
  {
   "cell_type": "code",
   "execution_count": 31,
   "id": "c7f0b975-d18f-40a1-b6c3-5334455924d1",
   "metadata": {},
   "outputs": [
    {
     "name": "stdout",
     "output_type": "stream",
     "text": [
      "The sum of all element in a list: 110\n"
     ]
    }
   ],
   "source": [
    "# taking total\n",
    "total=0\n",
    "list=[10,20,30,50]\n",
    "for i in range(len(list)):\n",
    "    total=total+list[i]\n",
    "print(\"The sum of all element in a list:\",total)"
   ]
  },
  {
   "cell_type": "markdown",
   "id": "e193f4b5-0aaf-4e3a-9ae7-690c9620122b",
   "metadata": {},
   "source": [
    "16.Find the maximum value in a list."
   ]
  },
  {
   "cell_type": "code",
   "execution_count": 32,
   "id": "51b8c35e-c96f-4b29-b41a-c85fddd5122a",
   "metadata": {},
   "outputs": [
    {
     "name": "stdout",
     "output_type": "stream",
     "text": [
      "The maximum value in a list: 8\n"
     ]
    }
   ],
   "source": [
    "list=[-4,8,2,6]\n",
    "# sort  maximum value in variable\n",
    "#using list max()\n",
    "maxvalue=max(list)\n",
    "print(\"The maximum value in a list:\",maxvalue)"
   ]
  },
  {
   "cell_type": "markdown",
   "id": "fafeca71-1a90-4691-aa4a-8f3d4c4be0a9",
   "metadata": {},
   "source": [
    "17.Find the minimum value in a list."
   ]
  },
  {
   "cell_type": "code",
   "execution_count": 33,
   "id": "566749c0-91ad-4263-ae64-267d453a5ecf",
   "metadata": {},
   "outputs": [
    {
     "name": "stdout",
     "output_type": "stream",
     "text": [
      "The minimum value in a list: -4\n"
     ]
    }
   ],
   "source": [
    "list=[-4,8,2,6]\n",
    "# sort  minimum value in variable\n",
    "#using list min()\n",
    "minvalue=min(list)\n",
    "print(\"The minimum value in a list:\",minvalue)"
   ]
  },
  {
   "cell_type": "markdown",
   "id": "2a7cc503-c1e3-44b8-a2f3-53475950031d",
   "metadata": {},
   "source": [
    "18.create a list of squares of the numbers from 1 to 10"
   ]
  },
  {
   "cell_type": "code",
   "execution_count": 34,
   "id": "a97ec74d-76e4-49ce-ba06-46ca5b349a6d",
   "metadata": {},
   "outputs": [
    {
     "name": "stdout",
     "output_type": "stream",
     "text": [
      "List of squares: [1, 4, 9, 16, 25, 36, 49, 64, 81, 100]\n"
     ]
    }
   ],
   "source": [
    "# taking square list\n",
    "squares = [x ** 2 for x in range(1, 11)]\n",
    "#  the list of squares\n",
    "print(\"List of squares:\", squares)"
   ]
  },
  {
   "cell_type": "markdown",
   "id": "12eabd7c-cd58-4639-972e-08b4ab5e2d3e",
   "metadata": {},
   "source": [
    "19.Create  a list of random numbers."
   ]
  },
  {
   "cell_type": "code",
   "execution_count": 35,
   "id": "addcfcfd-23e4-41a6-9265-efbb265d628f",
   "metadata": {},
   "outputs": [
    {
     "name": "stdout",
     "output_type": "stream",
     "text": [
      "[5, 3, 8, 4, 7, 7, 6, 5, 9, 7]\n"
     ]
    }
   ],
   "source": [
    "import random\n",
    "rand_list=[]\n",
    "n=10\n",
    "for i in range(n):\n",
    "    rand_list.append(random.randint(3,9))\n",
    "print(rand_list)"
   ]
  },
  {
   "cell_type": "markdown",
   "id": "0c604c3b-15b5-42bf-9111-10429996de73",
   "metadata": {},
   "source": [
    "20.Remove duplicate from a list."
   ]
  },
  {
   "cell_type": "code",
   "execution_count": 22,
   "id": "a3cac8ed-c3fc-492a-a4f8-4ac9039cd434",
   "metadata": {},
   "outputs": [
    {
     "name": "stdout",
     "output_type": "stream",
     "text": [
      "List without duplicates: [40, 10, 50, 20, 30]\n"
     ]
    }
   ],
   "source": [
    "my_list = [10, 20, 30, 20, 40, 10, 50, 30]\n",
    "# Remove duplicates by converting to a set and back to a list\n",
    "unique_list = list(set(my_list))\n",
    "# Print the list without duplicates\n",
    "print(\"List without duplicates:\", unique_list)"
   ]
  },
  {
   "cell_type": "markdown",
   "id": "4c80da98-ba59-4a7c-8068-ff64d494c6f5",
   "metadata": {},
   "source": [
    "21.Find the common elements between two list."
   ]
  },
  {
   "cell_type": "code",
   "execution_count": 51,
   "id": "894132eb-8755-4d35-8707-1a97c804a4d8",
   "metadata": {},
   "outputs": [
    {
     "name": "stdout",
     "output_type": "stream",
     "text": [
      "[10, 20, 30]\n"
     ]
    }
   ],
   "source": [
    "list_one = [5, 10, 15, 20, 25, 30]\n",
    "list_two = [10, 20, 30, 40, 50, 60]\n",
    "common_list = [c for c in list_one if c in list_two]\n",
    "print(common_list)"
   ]
  },
  {
   "cell_type": "markdown",
   "id": "0d43c8ae-2c4c-42fe-a840-281fb68921c7",
   "metadata": {},
   "source": [
    "22.Find difference between two lists."
   ]
  },
  {
   "cell_type": "code",
   "execution_count": 55,
   "id": "839e46a4-29e0-49f0-b031-93499016c13c",
   "metadata": {},
   "outputs": [
    {
     "name": "stdout",
     "output_type": "stream",
     "text": [
      "diffrence in list: [10, 15, 20, 39]\n"
     ]
    }
   ],
   "source": [
    "l1=[10,15,20,39,30,40]\n",
    "l2=[40,25,67,30]\n",
    "temp=[]\n",
    "for element in l1:\n",
    "    if element not in l2:\n",
    "        temp.append(element)\n",
    "print(\"diffrence in list:\",temp)\n"
   ]
  },
  {
   "cell_type": "markdown",
   "id": "c3887734-2860-4bc1-b12f-4b77929f24a3",
   "metadata": {},
   "source": [
    "23.Merge two lists."
   ]
  },
  {
   "cell_type": "code",
   "execution_count": 56,
   "id": "d274870d-4f82-4f89-b083-8eeec11872f1",
   "metadata": {},
   "outputs": [
    {
     "name": "stdout",
     "output_type": "stream",
     "text": [
      "Merged list: [10, 20, 30, 40, 50, 60]\n"
     ]
    }
   ],
   "source": [
    "list1 = [10, 20, 30]\n",
    "list2 = [40, 50, 60]\n",
    "# Merge lists using the +  conactenate operator\n",
    "merged_list = list1 + list2\n",
    "# Print the merged list\n",
    "print(\"Merged list:\", merged_list)"
   ]
  },
  {
   "cell_type": "markdown",
   "id": "e937bad2-6488-4bf9-8d30-5cfbd19ecfff",
   "metadata": {},
   "source": [
    "24.Multiply all elements in a list by 2."
   ]
  },
  {
   "cell_type": "code",
   "execution_count": 1,
   "id": "cf88a691-e508-4c54-b5df-f8fb67cfcb47",
   "metadata": {},
   "outputs": [
    {
     "name": "stdout",
     "output_type": "stream",
     "text": [
      "Multiplied list: [20, 40, 60, 80, 100]\n"
     ]
    }
   ],
   "source": [
    "my_list = [10, 20, 30, 40, 50]\n",
    "# Multiply all elements by 2 using a list comprehension\n",
    "multiplied_list = [x * 2 for x in my_list]\n",
    "#  the multiplied list\n",
    "print(\"Multiplied list:\", multiplied_list)"
   ]
  },
  {
   "cell_type": "markdown",
   "id": "31cdda93-ce2f-4d53-b9b5-72998d696c68",
   "metadata": {},
   "source": [
    "25.Filter out all over numbers form list."
   ]
  },
  {
   "cell_type": "code",
   "execution_count": 4,
   "id": "953393b3-da03-48ca-a5a7-a111bd7cddce",
   "metadata": {},
   "outputs": [
    {
     "name": "stdout",
     "output_type": "stream",
     "text": [
      "Original List : [2, 5, 7, 8, 10, 13, 16]\n",
      "Filtered List : [2, 8, 10, 16]\n"
     ]
    }
   ],
   "source": [
    "def even(x):\n",
    "    return x % 2 == 0\n",
    "a = [2, 5, 7, 8, 10, 13, 16]\n",
    "result = filter(even, a)\n",
    "print('Original List :', a)\n",
    "print('Filtered List :', list(result))"
   ]
  },
  {
   "cell_type": "markdown",
   "id": "2aa46779-8fc3-4162-8c84-8baf8f444bef",
   "metadata": {},
   "source": [
    "26.Convert a lsit pf string to list of intergers."
   ]
  },
  {
   "cell_type": "code",
   "execution_count": 9,
   "id": "e7d6ab48-6136-49ed-9e14-5ca988a7b180",
   "metadata": {},
   "outputs": [
    {
     "name": "stdout",
     "output_type": "stream",
     "text": [
      "[1, 2, 3]\n"
     ]
    }
   ],
   "source": [
    "a=['1','2','3']\n",
    "#int() in inbulid function convert string into integers\n",
    "print([int(x) for x in a])"
   ]
  },
  {
   "cell_type": "markdown",
   "id": "e1eece68-06c9-4c63-a395-7f671b88fa80",
   "metadata": {},
   "source": [
    "27.Convert a lsit of intergers to a list of string."
   ]
  },
  {
   "cell_type": "code",
   "execution_count": 11,
   "id": "2a352322-9b8b-44f7-8714-fb304b76eabd",
   "metadata": {},
   "outputs": [
    {
     "name": "stdout",
     "output_type": "stream",
     "text": [
      "List of strings: ['10', '20', '30', '40', '50']\n"
     ]
    }
   ],
   "source": [
    "integer_list = [10, 20, 30, 40, 50]\n",
    "# Convert list of integers to list of strings using a list comprehension\n",
    "string_list = [str(x) for x in integer_list]\n",
    "# Print the list of strings\n",
    "print(\"List of strings:\", string_list)"
   ]
  },
  {
   "cell_type": "markdown",
   "id": "3ba8adac-2ffd-4cb4-a46b-6e09712e89dc",
   "metadata": {},
   "source": [
    "28.Flatten a nested list."
   ]
  },
  {
   "cell_type": "code",
   "execution_count": 13,
   "id": "4f9fc1ac-2d5b-4f57-8339-8544f61c5a02",
   "metadata": {},
   "outputs": [
    {
     "name": "stdout",
     "output_type": "stream",
     "text": [
      "Flatten a nested list: [1, 2, 3, 4, 5, 6, 7]\n"
     ]
    }
   ],
   "source": [
    "my_list=[[1],[2,3],[4,5,6,7]]\n",
    "flat_list=[]\n",
    "for sublist in my_list:\n",
    "    for num in sublist:\n",
    "        flat_list.append(num)\n",
    "print(\"Flatten a nested list:\",flat_list)"
   ]
  },
  {
   "cell_type": "markdown",
   "id": "702e9302-38a1-4ef9-b887-13c3afb81051",
   "metadata": {},
   "source": [
    "29.Create a list of the first 10 fibonacci numbers."
   ]
  },
  {
   "cell_type": "code",
   "execution_count": null,
   "id": "01c88e0d-3f05-4e5f-b4b5-10519387f0ac",
   "metadata": {},
   "outputs": [
    {
     "name": "stdin",
     "output_type": "stream",
     "text": [
      "Enter no fabnocci number: 5\n"
     ]
    },
    {
     "name": "stdout",
     "output_type": "stream",
     "text": [
      "[0, 1, 1, 2, 3]\n"
     ]
    }
   ],
   "source": [
    "p=0\n",
    "q=1\n",
    "n=int(input(\"Enter no fabnocci number:\"))\n",
    "i=2\n",
    "list=[p,q]\n",
    "while i<n:\n",
    "    fibo=p+q\n",
    "    list.append(fibo)\n",
    "    p=q\n",
    "    q=fibo\n",
    "    i=i+1\n",
    "print(list)\n",
    "      "
   ]
  },
  {
   "cell_type": "markdown",
   "id": "f0f248a8-9f8f-4455-b113-2368901eaae2",
   "metadata": {},
   "source": [
    "30.Check list is sorted."
   ]
  },
  {
   "cell_type": "code",
   "execution_count": 15,
   "id": "713670d7-3820-47a6-b5e7-d2ef424c43ea",
   "metadata": {},
   "outputs": [
    {
     "name": "stdout",
     "output_type": "stream",
     "text": [
      "True\n"
     ]
    }
   ],
   "source": [
    "l1=[1,2,3,4,5]\n",
    "#Check if list sorted\n",
    "print(l1==sorted(l1))"
   ]
  },
  {
   "cell_type": "markdown",
   "id": "5739b378-4bb2-45c4-9195-d3ca10e21610",
   "metadata": {},
   "source": [
    "31.Rotate a list to the left by 'n' position."
   ]
  },
  {
   "cell_type": "code",
   "execution_count": 18,
   "id": "f667157d-6373-4600-967d-681f5811ec6d",
   "metadata": {},
   "outputs": [
    {
     "name": "stdout",
     "output_type": "stream",
     "text": [
      "original list:[1, 4, 6, 7, 2]\n",
      "List after rotate by 3: [7, 2, 1, 4, 6]\n"
     ]
    }
   ],
   "source": [
    "list=[1,4,6,7,2]\n",
    "print(\"original list:\"+str(list))\n",
    "c=list[3: ] + list[ :3]\n",
    "print(\"List after rotate by 3:\",c)"
   ]
  },
  {
   "cell_type": "markdown",
   "id": "2e2babe6-b69b-436f-be4e-b5bc43a62f43",
   "metadata": {},
   "source": [
    "32.Rotate a list to the right by 'n' position. "
   ]
  },
  {
   "cell_type": "code",
   "execution_count": 19,
   "id": "c0a11a21-0f79-4d1d-8c3c-bc9d75516865",
   "metadata": {},
   "outputs": [
    {
     "name": "stdout",
     "output_type": "stream",
     "text": [
      "original list:[1, 4, 6, 7, 2]\n",
      "List after right  rotate by 3: [6, 7, 2, 1, 4]\n"
     ]
    }
   ],
   "source": [
    "list=[1,4,6,7,2]\n",
    "print(\"original list:\"+str(list))\n",
    "c=list[-3: ] + list[ :-3]\n",
    "print(\"List after right  rotate by 3:\",c)"
   ]
  },
  {
   "cell_type": "markdown",
   "id": "84cc260d-1047-4ecd-9461-2796575b8903",
   "metadata": {},
   "source": [
    "33.Create a list of prime number up to 50."
   ]
  },
  {
   "cell_type": "code",
   "execution_count": 20,
   "id": "65ee1834-a3cb-490d-b682-f639fdb020af",
   "metadata": {},
   "outputs": [
    {
     "name": "stdout",
     "output_type": "stream",
     "text": [
      "5 25\n",
      "5 29\n",
      "List of prime numbers up to 50: [2, 3, 5, 7, 11, 13, 17, 19, 23, 29]\n"
     ]
    }
   ],
   "source": [
    "# Function to check if a number is prime\n",
    "def is_prime(num):\n",
    "    if num <= 1:\n",
    "        return False\n",
    "    if num <= 3:\n",
    "        return True\n",
    "    if num % 2 == 0 or num % 3 == 0:\n",
    "        return False\n",
    "    i = 5\n",
    "    while i * i <= num:\n",
    "      print(i,num)\n",
    "      if num % i == 0 or num % (i + 2) == 0:\n",
    "          return False\n",
    "      i += 6\n",
    "    return True\n",
    "prime_numbers = [num for num in range(2,30) if is_prime(num)]\n",
    "# the list of prime numbers\n",
    "print(\"List of prime numbers up to 50:\", prime_numbers)"
   ]
  },
  {
   "cell_type": "markdown",
   "id": "a08a139d-11fa-4dd6-9473-51d47a4bbae6",
   "metadata": {},
   "source": [
    "34.split a list into chunks of size 'n'."
   ]
  },
  {
   "cell_type": "code",
   "execution_count": null,
   "id": "250d8c9d-6787-411e-aebc-211b0cb6f37e",
   "metadata": {},
   "outputs": [],
   "source": []
  },
  {
   "cell_type": "markdown",
   "id": "7df52e51-f1a0-458f-abf3-5acf74a74b35",
   "metadata": {},
   "source": [
    "35.Find the second largest number in a list."
   ]
  },
  {
   "cell_type": "code",
   "execution_count": 21,
   "id": "797b1159-0a9c-46b3-a9b8-9b8055c9e44c",
   "metadata": {},
   "outputs": [
    {
     "name": "stdout",
     "output_type": "stream",
     "text": [
      "The second largest element of the list is: 30\n"
     ]
    }
   ],
   "source": [
    "# declaring the list  \n",
    "list_val = [20, 30, 40, 25, 10]  \n",
    "# sorting the list  \n",
    "list_val.sort()  \n",
    "#displaying the second last element of the list  \n",
    "print(\"The second largest element of the list is:\", list_val[-2])  "
   ]
  },
  {
   "cell_type": "markdown",
   "id": "033765e0-c794-47cd-8ee4-6bfe14a56d52",
   "metadata": {},
   "source": [
    "36.Replace every element in a list with square."
   ]
  },
  {
   "cell_type": "code",
   "execution_count": 28,
   "id": "e3429159-4dc6-4c90-a0ba-38d1992194d1",
   "metadata": {},
   "outputs": [
    {
     "name": "stdout",
     "output_type": "stream",
     "text": [
      "Squared list: [4, 16, 36, 64, 100, 144, 196]\n"
     ]
    }
   ],
   "source": [
    "my_list = [2, 4, 6, 8, 10,12,14]\n",
    "squared_list = [x ** 2 for x in my_list]\n",
    "# the squared list\n",
    "print(\"Squared list:\", squared_list)"
   ]
  },
  {
   "cell_type": "markdown",
   "id": "59859420-1cbf-4e7c-b19b-07b18fcbcdc2",
   "metadata": {},
   "source": [
    "37.Convert a list to dictionary where list .........."
   ]
  },
  {
   "cell_type": "code",
   "execution_count": 29,
   "id": "5425db5d-d2f5-44fe-84bd-5de40c27d286",
   "metadata": {},
   "outputs": [
    {
     "name": "stdout",
     "output_type": "stream",
     "text": [
      "Converted dictionary: {'apple': 0, 'banana': 1, 'cherry': 2, 'date': 3, 'elderberry': 4}\n"
     ]
    }
   ],
   "source": [
    "my_list = ['apple', 'banana', 'cherry', 'date', 'elderberry']\n",
    "my_dict = {element: index for index, element in enumerate(my_list)}\n",
    "# the resulting dictionary\n",
    "print(\"Converted dictionary:\", my_dict)"
   ]
  },
  {
   "cell_type": "markdown",
   "id": "7e4bd6ad-2648-45f6-bb57-2541442bb71c",
   "metadata": {},
   "source": [
    "38.Shuffle the elements of list randomly."
   ]
  },
  {
   "cell_type": "code",
   "execution_count": 30,
   "id": "77432ec1-3939-44e8-a470-fd1d229a1df4",
   "metadata": {},
   "outputs": [
    {
     "name": "stdout",
     "output_type": "stream",
     "text": [
      "Shuffled list: [8, 10, 1, 9, 6, 3, 5, 4, 2, 7]\n"
     ]
    }
   ],
   "source": [
    "import random\n",
    "my_list = [1, 2, 3, 4, 5, 6, 7, 8, 9, 10]\n",
    "# Shuffle the list randomly\n",
    "random.shuffle(my_list)\n",
    "#  the shuffled list\n",
    "print(\"Shuffled list:\", my_list)"
   ]
  },
  {
   "cell_type": "markdown",
   "id": "07cca0dd-faab-4f90-a14a-e1068c7d70df",
   "metadata": {},
   "source": [
    "39.Create a list of the first 10 factorial numbers."
   ]
  },
  {
   "cell_type": "code",
   "execution_count": 31,
   "id": "31025aa7-5ad5-43ed-9ead-07dd01c14600",
   "metadata": {},
   "outputs": [
    {
     "name": "stdout",
     "output_type": "stream",
     "text": [
      "List of the first 10 factorial numbers: [1, 1, 2, 6, 24, 120, 720, 5040, 40320, 362880]\n"
     ]
    }
   ],
   "source": [
    "def factorial(n):\n",
    "    if n == 0 or n == 1:\n",
    "        return 1\n",
    "    else:\n",
    "        return n * factorial(n - 1)\n",
    "#  list of the first 10 factorial numbers\n",
    "factorial_numbers = [factorial(i) for i in range(10)]\n",
    "print(\"List of the first 10 factorial numbers:\", factorial_numbers)"
   ]
  },
  {
   "cell_type": "markdown",
   "id": "bcec3001-1027-4926-bd52-0a9051524105",
   "metadata": {},
   "source": [
    "40.Check if two lists have at least one element......"
   ]
  },
  {
   "cell_type": "code",
   "execution_count": 36,
   "id": "65deb9af-507d-40a7-adfe-2d6b4697126e",
   "metadata": {},
   "outputs": [
    {
     "name": "stdout",
     "output_type": "stream",
     "text": [
      "The lists have at least one common element.\n"
     ]
    }
   ],
   "source": [
    "def has_common_element(list1, list2):\n",
    "    for item in list1:\n",
    "        if item in list2:\n",
    "            return True\n",
    "    return False\n",
    "# lists\n",
    "list1 = [1, 2, 3, 4, 5]\n",
    "list2 = [4, 5, 6, 7, 8]\n",
    "if has_common_element(list1, list2):\n",
    "    print(\"The lists have at least one common element.\")\n",
    "else:\n",
    "    print(\"The lists do not have any common elements.\")"
   ]
  },
  {
   "cell_type": "markdown",
   "id": "5f40068c-47de-4f24-9170-e0877d3ae8a7",
   "metadata": {},
   "source": [
    "41.Remove all element from a list."
   ]
  },
  {
   "cell_type": "code",
   "execution_count": 37,
   "id": "e14fbaac-51da-45e5-8b35-d9fd537336ce",
   "metadata": {},
   "outputs": [
    {
     "name": "stdout",
     "output_type": "stream",
     "text": [
      "[1, 2, 3, 4, 5]\n",
      "[]\n"
     ]
    }
   ],
   "source": [
    "a=[1,2,3,4,5]\n",
    "print(a)\n",
    "a.clear()\n",
    "print(a)"
   ]
  },
  {
   "cell_type": "markdown",
   "id": "2f57c967-5d19-4ece-a697-cbb21b009d8b",
   "metadata": {},
   "source": [
    "42.Replace negative number in list with 0."
   ]
  },
  {
   "cell_type": "code",
   "execution_count": 38,
   "id": "390205df-bc0f-4836-9286-449af01a478a",
   "metadata": {},
   "outputs": [
    {
     "name": "stdout",
     "output_type": "stream",
     "text": [
      "List after replacing negative numbers with 0: [10, 0, 20, 0, 30, 0, 0, 40, 60]\n"
     ]
    }
   ],
   "source": [
    "my_list = [10, -5, 20, -40, 30, -25,-50,40,60]\n",
    "#  Iterate through the list and replace negative numbers with 0\n",
    "for i in range(len(my_list)):\n",
    "    if my_list[i] < 0:\n",
    "        my_list[i] = 0\n",
    "#  the list after replacing negative numbers with 0\n",
    "print(\"List after replacing negative numbers with 0:\", my_list)"
   ]
  },
  {
   "cell_type": "markdown",
   "id": "ead521b2-de75-44a5-80f8-56fc12414f58",
   "metadata": {},
   "source": [
    "43.Convert string into a list of words."
   ]
  },
  {
   "cell_type": "code",
   "execution_count": 41,
   "id": "9b367fad-8dfc-4d4f-b71b-3f834ad10856",
   "metadata": {},
   "outputs": [
    {
     "name": "stdout",
     "output_type": "stream",
     "text": [
      "['pwskill', 'is', 'important']\n"
     ]
    }
   ],
   "source": [
    "str1='pwskill is important'\n",
    "list1=str1.split()\n",
    "print(list1)"
   ]
  },
  {
   "cell_type": "markdown",
   "id": "60536ff5-6835-4974-8481-1a82cbf77d9a",
   "metadata": {},
   "source": [
    "44.Convert a list of words into string."
   ]
  },
  {
   "cell_type": "code",
   "execution_count": 42,
   "id": "4d09a446-be63-4af1-964b-010f99a8ffcf",
   "metadata": {},
   "outputs": [
    {
     "name": "stdout",
     "output_type": "stream",
     "text": [
      "pwsill is important\n",
      "<class 'str'>\n"
     ]
    }
   ],
   "source": [
    "list=['pwsill','is','important']\n",
    "string=\" \".join(list)\n",
    "print(string)\n",
    "print(type(string))"
   ]
  },
  {
   "cell_type": "markdown",
   "id": "de784c20-219e-4f58-8edd-cd1727ef83d9",
   "metadata": {},
   "source": [
    "45.Create a list of the first 'n' power of 2."
   ]
  },
  {
   "cell_type": "code",
   "execution_count": 43,
   "id": "8b7b1ce3-d161-4031-b0a7-15fcac9794c8",
   "metadata": {},
   "outputs": [
    {
     "name": "stdout",
     "output_type": "stream",
     "text": [
      "List of the first 5 powers of 2: [1, 2, 4, 8, 16]\n"
     ]
    }
   ],
   "source": [
    "# the value of n\n",
    "n = 5\n",
    "#list of the first n powers of 2 using a loop\n",
    "power_list = [2 ** i for i in range(n)]\n",
    "print(\"List of the first\", n, \"powers of 2:\", power_list)"
   ]
  },
  {
   "cell_type": "markdown",
   "id": "bc6a2994-43cb-4595-86d9-a20cdf6abb80",
   "metadata": {},
   "source": [
    "46.Find longest string in a list of string. "
   ]
  },
  {
   "cell_type": "code",
   "execution_count": 45,
   "id": "b2dd2c7d-7319-4bdc-99c8-4d928233a30c",
   "metadata": {},
   "outputs": [
    {
     "name": "stdout",
     "output_type": "stream",
     "text": [
      "The longest value in a list: important\n"
     ]
    }
   ],
   "source": [
    "list=[\"pwsill\",\"important\",\"need\"]\n",
    "# sort  maximum value in variable\n",
    "#using list max()\n",
    "maxvalue=max(list,key=len)\n",
    "print(\"The longest value in a list:\",maxvalue)"
   ]
  },
  {
   "cell_type": "markdown",
   "id": "d3e89009-5650-46b1-bbde-888dc227db6d",
   "metadata": {},
   "source": [
    "47.Find the shortest string a list of string."
   ]
  },
  {
   "cell_type": "code",
   "execution_count": 47,
   "id": "b50fd094-878e-43a0-a950-55e0a073cd5b",
   "metadata": {},
   "outputs": [
    {
     "name": "stdout",
     "output_type": "stream",
     "text": [
      "The shortest string value in a list: need\n"
     ]
    }
   ],
   "source": [
    "list=[\"pwsill\",\"important\",\"need\"]\n",
    "# sort  shortest value in variable\n",
    "#using list min()\n",
    "minvalue=min(list,key=len)\n",
    "print(\"The shortest string value in a list:\",minvalue)"
   ]
  },
  {
   "cell_type": "markdown",
   "id": "1eeb3398-2e4c-411e-8c93-34cf6bfc706a",
   "metadata": {},
   "source": [
    "48.create a list of teh first 'n' triangular numbers."
   ]
  },
  {
   "cell_type": "code",
   "execution_count": 48,
   "id": "476ad3b8-3a56-462b-938f-3ed45b2e7a79",
   "metadata": {},
   "outputs": [
    {
     "name": "stdout",
     "output_type": "stream",
     "text": [
      "List of the first 5 triangular numbers: [1, 3, 6, 10, 15]\n"
     ]
    }
   ],
   "source": [
    "def triangular_numbers(n):\n",
    "    return [i * (i + 1) // 2 for i in range(1, n + 1)]\n",
    "#  the value of n\n",
    "n = 5\n",
    "# Create a list of the first n triangular numbers\n",
    "triangular_list = triangular_numbers(n)\n",
    "# Print the list of triangular numbers\n",
    "print(\"List of the first\", n, \"triangular numbers:\", triangular_list)"
   ]
  },
  {
   "cell_type": "markdown",
   "id": "e28da1e4-8893-4848-81b7-9c2ea4f40f8d",
   "metadata": {},
   "source": [
    "49.Check if a list conatins another list as subsequence."
   ]
  },
  {
   "cell_type": "code",
   "execution_count": 50,
   "id": "49563173-3396-40e9-8538-b30952cface6",
   "metadata": {},
   "outputs": [
    {
     "name": "stdout",
     "output_type": "stream",
     "text": [
      "Original list : [9, 4, 5, 8, 10]\n",
      "Original sub list : [10, 5, 4]\n",
      "Yes, list is subsequence of other.\n"
     ]
    }
   ],
   "source": [
    "test_list = [9, 4, 5, 8, 10]\n",
    "sub_list = [10, 5, 4] \n",
    "# printing original lists\n",
    "print(\"Original list : \" + str(test_list))\n",
    "print(\"Original sub list : \" + str(sub_list))\n",
    "# using all() to\n",
    "# check subset of list\n",
    "flag = 0\n",
    "if(all(x in test_list for x in sub_list)):\n",
    "    flag = 1\n",
    "# printing result\n",
    "if (flag):\n",
    "    print(\"Yes, list is subsequence of other.\")\n",
    "else:\n",
    "    print(\"No, list is not subsequence of other.\")"
   ]
  },
  {
   "cell_type": "markdown",
   "id": "925d076f-3f77-49d2-a783-d01a4cd638d1",
   "metadata": {},
   "source": [
    "50.Swap two elements in a list by their indicies."
   ]
  },
  {
   "cell_type": "code",
   "execution_count": 52,
   "id": "cc8a0219-da18-49dd-af50-df85adea6926",
   "metadata": {},
   "outputs": [
    {
     "name": "stdout",
     "output_type": "stream",
     "text": [
      "List after swapping elements: [1, 4, 3, 2, 5]\n"
     ]
    }
   ],
   "source": [
    "my_list = [1, 2, 3, 4, 5]\n",
    "# Indices of elements to swap\n",
    "index1 = 1\n",
    "index2 = 3\n",
    "# Swap the elements\n",
    "temp = my_list[index1]\n",
    "my_list[index1] = my_list[index2]\n",
    "my_list[index2] = temp\n",
    "#  list after swapping\n",
    "print(\"List after swapping elements:\", my_list)"
   ]
  },
  {
   "cell_type": "markdown",
   "id": "e3d62aad-7520-4977-b9b7-a1fee42f4619",
   "metadata": {},
   "source": [
    "TUPLE BASED QUESTIONS"
   ]
  },
  {
   "cell_type": "markdown",
   "id": "b3404865-d3f3-4c12-8a87-0d3c0c3e658e",
   "metadata": {},
   "source": [
    "1.Create a tuple with integers from 1 to 5."
   ]
  },
  {
   "cell_type": "code",
   "execution_count": 4,
   "id": "a7093e91-c939-4f43-b22a-6022ad572e2c",
   "metadata": {},
   "outputs": [
    {
     "name": "stdout",
     "output_type": "stream",
     "text": [
      "(1, 2, 3)\n",
      "<class 'tuple'>\n"
     ]
    }
   ],
   "source": [
    "my_tuple = (1, 2, 3)\n",
    "print(my_tuple)\n",
    "print(type(my_tuple))"
   ]
  },
  {
   "cell_type": "markdown",
   "id": "e64e55e1-63b8-4477-a9ca-df55b44b52d0",
   "metadata": {},
   "source": [
    "2.Access the third elements of tuple."
   ]
  },
  {
   "cell_type": "code",
   "execution_count": 5,
   "id": "b6bf3eb4-670e-486f-9822-8e76410fd0d7",
   "metadata": {},
   "outputs": [
    {
     "name": "stdout",
     "output_type": "stream",
     "text": [
      "original tuple: (1, 2, 3, 4, 5, 6)\n",
      "third element in tuple: 3\n"
     ]
    }
   ],
   "source": [
    "tuple=(1,2,3,4,5,6)\n",
    "print(\"original tuple:\",tuple)\n",
    "#just by using index concept we can fetch the value of tuple\n",
    "print(\"third element in tuple:\",tuple[2])"
   ]
  },
  {
   "cell_type": "markdown",
   "id": "8945c9c1-b2b2-4d34-83a1-fc3722751645",
   "metadata": {},
   "source": [
    "3.Find the length of tuple without using the length function..."
   ]
  },
  {
   "cell_type": "code",
   "execution_count": 7,
   "id": "a3244555-f8ba-4025-8a6a-47986df4d042",
   "metadata": {},
   "outputs": [
    {
     "name": "stdout",
     "output_type": "stream",
     "text": [
      "Print length of tuple with using len function: 6\n"
     ]
    }
   ],
   "source": [
    "tuple=(1,2,3,4,5,6)\n",
    "count=0\n",
    "for i in tuple:\n",
    "    count=count+1\n",
    "print(\"Print length of tuple with using len function:\",count)"
   ]
  },
  {
   "cell_type": "markdown",
   "id": "d05273f4-b2b8-4d76-96b4-9176155f6684",
   "metadata": {},
   "source": [
    "4.Count occurrences of an elementsin tuple ."
   ]
  },
  {
   "cell_type": "code",
   "execution_count": 8,
   "id": "b9156bbb-129d-40cf-9994-c4459c4b4d4d",
   "metadata": {},
   "outputs": [
    {
     "name": "stdout",
     "output_type": "stream",
     "text": [
      "occurrences of an elements in tuple: 2\n"
     ]
    }
   ],
   "source": [
    "tuple=(\"rama\",\"manhas\",\"abc\",123,\"abcd\",123,\"thakur\")\n",
    "print(\"occurrences of an elements in tuple:\",tuple.count(123))"
   ]
  },
  {
   "cell_type": "markdown",
   "id": "bd4a85b3-427d-44db-845c-e68686c18ce2",
   "metadata": {},
   "source": [
    "5.Find the index of the first occurrence....."
   ]
  },
  {
   "cell_type": "code",
   "execution_count": 10,
   "id": "63b7eb76-32a6-458f-8622-e7cc8fa2a470",
   "metadata": {},
   "outputs": [
    {
     "name": "stdout",
     "output_type": "stream",
     "text": [
      "20 is not found in the tuple.\n"
     ]
    }
   ],
   "source": [
    "element_to_find = 20\n",
    "index = -1  # Initialize with -1 to indicate that the element was not found\n",
    "#Iterate through the tuple and find the index of the chosen element\n",
    "for i, item in enumerate(my_tuple):\n",
    "    if item == element_to_find:\n",
    "        index = i\n",
    "        break  # Exit the loop once the first occurrence is found\n",
    "if index != -1:\n",
    "    print(f\"The first occurrence of {element_to_find} is at index {index}.\")\n",
    "else:\n",
    "    print(f\"{element_to_find} is not found in the tuple.\")"
   ]
  },
  {
   "cell_type": "markdown",
   "id": "d64563aa-97ac-4661-9150-700d64dfb9a0",
   "metadata": {},
   "source": [
    "6.Check if an elements exits in tuple."
   ]
  },
  {
   "cell_type": "code",
   "execution_count": 11,
   "id": "20b1be50-c2cd-4b26-806d-b171b84f45e5",
   "metadata": {},
   "outputs": [
    {
     "name": "stdout",
     "output_type": "stream",
     "text": [
      "30 does not exist in the tuple.\n"
     ]
    }
   ],
   "source": [
    "my_tuple = (10, 50, 80, 90, 50)\n",
    "element_to_check = 30\n",
    "if element_to_check in my_tuple:\n",
    "    print(f\"{element_to_check} exists in the tuple.\")\n",
    "else:\n",
    "    print(f\"{element_to_check} does not exist in the tuple.\")"
   ]
  },
  {
   "cell_type": "markdown",
   "id": "07b44ce4-6010-40d2-9530-03fcfc075ab3",
   "metadata": {},
   "source": [
    "7.Convert a tuple to list."
   ]
  },
  {
   "cell_type": "code",
   "execution_count": 12,
   "id": "74d175ef-1894-4703-8689-1c5e603938a5",
   "metadata": {},
   "outputs": [
    {
     "name": "stdout",
     "output_type": "stream",
     "text": [
      "Tuple: (10, 100, 400, 560, 900)\n",
      "List: [10, 100, 400, 560, 900]\n"
     ]
    }
   ],
   "source": [
    "my_tuple = (10, 100, 400, 560, 900)\n",
    "my_list = list(my_tuple)\n",
    "# Print the resulting list\n",
    "print(\"Tuple:\", my_tuple)\n",
    "print(\"List:\", my_list)"
   ]
  },
  {
   "cell_type": "markdown",
   "id": "637978d1-fce7-4182-b8a2-f29571f14aa7",
   "metadata": {},
   "source": [
    "8.convert a list to tuple."
   ]
  },
  {
   "cell_type": "code",
   "execution_count": 19,
   "id": "51e2e6e8-92b4-4f0b-ae13-6f4ac4b1005c",
   "metadata": {},
   "outputs": [
    {
     "name": "stdout",
     "output_type": "stream",
     "text": [
      "('Compile', 'With', 'Favtutor')\n",
      "<class 'tuple'>\n"
     ]
    }
   ],
   "source": [
    "sample_list = ['Compile', 'With', 'Favtutor']\n",
    "#unpack list items and form tuple\n",
    "tuple1 = (*sample_list,)\n",
    "print(tuple1)\n",
    "print(type(tuple1))\n",
    " "
   ]
  },
  {
   "cell_type": "markdown",
   "id": "bbe176e1-dfb7-4e1b-a8f4-299d50a83291",
   "metadata": {},
   "source": [
    "9.Unpack the elements of tuple into variable."
   ]
  },
  {
   "cell_type": "code",
   "execution_count": 20,
   "id": "f8629afa-efd6-40aa-af31-a356825a6584",
   "metadata": {},
   "outputs": [
    {
     "name": "stdout",
     "output_type": "stream",
     "text": [
      "var1: 10\n",
      "var2: 20\n",
      "var3: 30\n"
     ]
    }
   ],
   "source": [
    "my_tuple = (10, 20, 30)\n",
    "#Unpack the elements of the tuple into variables\n",
    "var1, var2, var3 = my_tuple\n",
    "# Print the variables\n",
    "print(\"var1:\", var1)\n",
    "print(\"var2:\", var2)\n",
    "print(\"var3:\", var3)"
   ]
  },
  {
   "cell_type": "markdown",
   "id": "60a32149-580d-47a7-bf18-916a8600a3cc",
   "metadata": {},
   "source": [
    "10.create a tuple of even numbers from 1 to 10."
   ]
  },
  {
   "cell_type": "code",
   "execution_count": 26,
   "id": "c9101618-fe79-437b-a97b-16209d083bd8",
   "metadata": {},
   "outputs": [
    {
     "name": "stdout",
     "output_type": "stream",
     "text": [
      "Tuple of even numbers: (2, 4, 6, 8, 10)\n"
     ]
    }
   ],
   "source": [
    "even_numbers_list = [num for num in range(2, 11, 2)]  # Start from 2, step by 2, end at 10\n",
    "\n",
    "# Step 2: Convert the list to a tuple\n",
    "even_numbers_tuple = (*even_numbers_list,)\n",
    "\n",
    "# Step 3: Print the resulting tuple\n",
    "print(\"Tuple of even numbers:\", even_numbers_tuple)"
   ]
  },
  {
   "cell_type": "markdown",
   "id": "9c7787fd-89b3-4a9e-a847-3fe21692b1a0",
   "metadata": {},
   "source": [
    "11.Create a tuple of odd number from 1 TO 10..."
   ]
  },
  {
   "cell_type": "code",
   "execution_count": 33,
   "id": "0e290909-6334-4a07-a829-b7bdab311ba5",
   "metadata": {},
   "outputs": [
    {
     "name": "stdout",
     "output_type": "stream",
     "text": [
      "Tuple of even numbers: (1, 3, 5, 7, 9)\n"
     ]
    }
   ],
   "source": [
    "even_numbers_list = [num for num in range(1, 11, 2)]  \n",
    "even_numbers_tuple = (*even_numbers_list,)\n",
    "print(\"Tuple of even numbers:\", even_numbers_tuple)"
   ]
  },
  {
   "cell_type": "markdown",
   "id": "886d169a-6186-4bfc-949c-4a5fa4ac3fff",
   "metadata": {},
   "source": [
    "12.concatenate two tuple..."
   ]
  },
  {
   "cell_type": "code",
   "execution_count": 34,
   "id": "39b042fb-3e5f-46fb-b799-c8219315ad77",
   "metadata": {},
   "outputs": [
    {
     "name": "stdout",
     "output_type": "stream",
     "text": [
      "Concatenated tuple: (1, 2, 3, 4, 5, 6)\n"
     ]
    }
   ],
   "source": [
    "tuple1 = (1, 2, 3)\n",
    "tuple2 = (4, 5, 6)\n",
    "concatenated_tuple = tuple1 + tuple2\n",
    "# the concatenated tuple\n",
    "print(\"Concatenated tuple:\", concatenated_tuple)"
   ]
  },
  {
   "cell_type": "markdown",
   "id": "dc6f2c9b-da68-4287-8752-cf7b5b35338e",
   "metadata": {},
   "source": [
    "13.Rrpeat a tuple three time..."
   ]
  },
  {
   "cell_type": "code",
   "execution_count": 35,
   "id": "9d697af2-5100-4c6b-9fee-ee81c9468528",
   "metadata": {},
   "outputs": [
    {
     "name": "stdout",
     "output_type": "stream",
     "text": [
      "Repeated tuple: (1, 2, 3, 1, 2, 3, 1, 2, 3)\n"
     ]
    }
   ],
   "source": [
    "original_tuple = (1, 2, 3)\n",
    "repeated_tuple = original_tuple * 3\n",
    "# Print the repeated tuple\n",
    "print(\"Repeated tuple:\", repeated_tuple)"
   ]
  },
  {
   "cell_type": "markdown",
   "id": "36f0fbc6-d5d4-4f78-af2c-8a6089b028f2",
   "metadata": {},
   "source": [
    "14.check if tuple is empty..."
   ]
  },
  {
   "cell_type": "code",
   "execution_count": 36,
   "id": "5fffdf44-a9b1-41ae-9e8e-120363b6cd5c",
   "metadata": {},
   "outputs": [
    {
     "name": "stdout",
     "output_type": "stream",
     "text": [
      "The empty_tuple is empty.\n",
      "The non_empty_tuple is not empty.\n"
     ]
    }
   ],
   "source": [
    "empty_tuple = ()\n",
    "non_empty_tuple = (1, 2, 3)\n",
    "#Check if the tuples are empty\n",
    "if not empty_tuple:\n",
    "    print(\"The empty_tuple is empty.\")\n",
    "else:\n",
    "    print(\"The empty_tuple is not empty.\")\n",
    "\n",
    "if not non_empty_tuple:\n",
    "    print(\"The non_empty_tuple is empty.\")\n",
    "else:\n",
    "    print(\"The non_empty_tuple is not empty.\")"
   ]
  },
  {
   "cell_type": "markdown",
   "id": "0e60dcc5-f919-4f98-a360-cb38fe93b849",
   "metadata": {},
   "source": [
    "15. Create  a nested  tuple."
   ]
  },
  {
   "cell_type": "code",
   "execution_count": 37,
   "id": "155eaf40-53a2-4788-81b9-df9f3419c3d2",
   "metadata": {},
   "outputs": [
    {
     "name": "stdout",
     "output_type": "stream",
     "text": [
      "Nested tuple: ((1, 2, 3), ('a', 'b', 'c'), (True, False))\n"
     ]
    }
   ],
   "source": [
    "#  Create a nested tuple\n",
    "nested_tuple = ((1, 2, 3), ('a', 'b', 'c'), (True, False))\n",
    "# Print the nested tuple\n",
    "print(\"Nested tuple:\", nested_tuple)"
   ]
  },
  {
   "cell_type": "markdown",
   "id": "b2d0e8b7-cf89-46c5-a624-7477710f2493",
   "metadata": {},
   "source": [
    "16. Access the first elements of nested tuple...."
   ]
  },
  {
   "cell_type": "code",
   "execution_count": 38,
   "id": "853169bb-f9bb-4497-a875-0e50694c69a0",
   "metadata": {},
   "outputs": [
    {
     "name": "stdout",
     "output_type": "stream",
     "text": [
      "First element of the nested tuple: (1, 2, 3)\n"
     ]
    }
   ],
   "source": [
    "nested_tuple = ((1, 2, 3), ('a', 'b', 'c'), (True, False))\n",
    "#Access the first element of the nested tuple\n",
    "first_element = nested_tuple[0]\n",
    "#Print the first element\n",
    "print(\"First element of the nested tuple:\", first_element)"
   ]
  },
  {
   "cell_type": "markdown",
   "id": "d506e389-7dab-4a80-b26e-5ec982ce79f1",
   "metadata": {},
   "source": [
    "17.Create a tuple with single statement...."
   ]
  },
  {
   "cell_type": "code",
   "execution_count": 39,
   "id": "8fce4c58-145d-4b6f-8f69-d8fd58201323",
   "metadata": {},
   "outputs": [
    {
     "name": "stdout",
     "output_type": "stream",
     "text": [
      "Single element tuple: (42,)\n"
     ]
    }
   ],
   "source": [
    "single_element_tuple = (42,)# comma used\n",
    "print(\"Single element tuple:\", single_element_tuple)"
   ]
  },
  {
   "cell_type": "markdown",
   "id": "08751572-1f7b-4152-909b-7b9c24d805f9",
   "metadata": {},
   "source": [
    "18. compare two tuples...."
   ]
  },
  {
   "cell_type": "code",
   "execution_count": 40,
   "id": "34ec6a29-3157-4b70-b895-2eb24c119efd",
   "metadata": {},
   "outputs": [
    {
     "name": "stdout",
     "output_type": "stream",
     "text": [
      "tuple1 == tuple2: False\n",
      "tuple1 != tuple2: True\n",
      "tuple1 < tuple2: True\n",
      "tuple1 <= tuple2: True\n",
      "tuple1 > tuple2: False\n",
      "tuple1 >= tuple2: False\n"
     ]
    }
   ],
   "source": [
    "# initlizing two tuple\n",
    "tuple1 = (1, 2, 3)\n",
    "tuple2 = (1, 2, 4)\n",
    "#the two tuples using comparison operators\n",
    "print(\"tuple1 == tuple2:\", tuple1 == tuple2)  # Equality check\n",
    "print(\"tuple1 != tuple2:\", tuple1 != tuple2)  # Inequality check\n",
    "print(\"tuple1 < tuple2:\", tuple1 < tuple2)    # Less than check\n",
    "print(\"tuple1 <= tuple2:\", tuple1 <= tuple2)  # Less than or equal to check\n",
    "print(\"tuple1 > tuple2:\", tuple1 > tuple2)    # Greater than check\n",
    "print(\"tuple1 >= tuple2:\", tuple1 >= tuple2)  # Greater than or equal to check"
   ]
  },
  {
   "cell_type": "markdown",
   "id": "57693df3-8ee7-4e52-94d4-a08b3c74390d",
   "metadata": {},
   "source": [
    "19. delete a tuple."
   ]
  },
  {
   "cell_type": "code",
   "execution_count": 41,
   "id": "1a4b0f71-7e70-4408-ad94-95b75661d4bb",
   "metadata": {},
   "outputs": [
    {
     "ename": "NameError",
     "evalue": "name 'my_tuple' is not defined",
     "output_type": "error",
     "traceback": [
      "\u001b[0;31m---------------------------------------------------------------------------\u001b[0m",
      "\u001b[0;31mNameError\u001b[0m                                 Traceback (most recent call last)",
      "Cell \u001b[0;32mIn[41], line 4\u001b[0m\n\u001b[1;32m      2\u001b[0m \u001b[38;5;66;03m#Delete the tuple using the 'del' statement\u001b[39;00m\n\u001b[1;32m      3\u001b[0m \u001b[38;5;28;01mdel\u001b[39;00m my_tuple\n\u001b[0;32m----> 4\u001b[0m \u001b[38;5;28mprint\u001b[39m(\u001b[43mmy_tuple\u001b[49m)\n",
      "\u001b[0;31mNameError\u001b[0m: name 'my_tuple' is not defined"
     ]
    }
   ],
   "source": [
    "my_tuple = (1, 2, 3, 4, 5)\n",
    "#Delete the tuple using the 'del' statement\n",
    "del my_tuple\n",
    "print(my_tuple)"
   ]
  },
  {
   "cell_type": "markdown",
   "id": "509419d9-c48e-4a7a-ad1f-d18bf2c901b7",
   "metadata": {},
   "source": [
    "20. slice a tuple."
   ]
  },
  {
   "cell_type": "code",
   "execution_count": 42,
   "id": "f274f536-5402-4675-9268-5573443dbb62",
   "metadata": {},
   "outputs": [
    {
     "name": "stdout",
     "output_type": "stream",
     "text": [
      "Sliced tuple: (3, 4, 5, 6)\n"
     ]
    }
   ],
   "source": [
    "tuple = (1, 2, 3, 4, 5, 6, 7, 8, 9, 10)\n",
    "# Slice the tuple to get a portion of it\n",
    "sliced_tuple = tuple[2:6]  # from index 2 to 5 (end index is exclusive)\n",
    "#the sliced tuple\n",
    "print(\"Sliced tuple:\", sliced_tuple)"
   ]
  },
  {
   "cell_type": "markdown",
   "id": "0f774a8e-108e-412b-a0f6-39c95273a81a",
   "metadata": {},
   "source": [
    "21.Find the maximum value...."
   ]
  },
  {
   "cell_type": "code",
   "execution_count": 45,
   "id": "2d8234f3-792c-4539-8cfd-780b7e9e4303",
   "metadata": {},
   "outputs": [
    {
     "name": "stdout",
     "output_type": "stream",
     "text": [
      "Maximum value: 45\n"
     ]
    }
   ],
   "source": [
    "my_tuple = (10, 20, 5, 45, 30)\n",
    "#  tuple using the 'max()' function\n",
    "max_value = max(my_tuple)\n",
    "# the maximum value\n",
    "print(\"Maximum value:\", max_value)"
   ]
  },
  {
   "cell_type": "markdown",
   "id": "51a1b210-c47b-4b9d-8db5-c4d1c2ab92b3",
   "metadata": {},
   "source": [
    "22.Find the minimum value ...."
   ]
  },
  {
   "cell_type": "code",
   "execution_count": 46,
   "id": "1a2a67a7-e6c3-47c1-86c6-6a7d7cc23453",
   "metadata": {},
   "outputs": [
    {
     "name": "stdout",
     "output_type": "stream",
     "text": [
      "Minimum value: 5\n"
     ]
    }
   ],
   "source": [
    "my_tuple = (10, 20, 5, 45, 30)\n",
    "#  the tuple using the 'min()' function\n",
    "min_value = min(my_tuple)\n",
    "#Print the minimum value\n",
    "print(\"Minimum value:\", min_value)"
   ]
  },
  {
   "cell_type": "markdown",
   "id": "0ecf8941-4afb-4927-8e96-098257e6c791",
   "metadata": {},
   "source": [
    "23. Convert a string to a tuple of characters..."
   ]
  },
  {
   "cell_type": "code",
   "execution_count": 49,
   "id": "8e7ab02d-3954-4c0a-96fe-3eaa9ec7b28c",
   "metadata": {},
   "outputs": [
    {
     "name": "stdout",
     "output_type": "stream",
     "text": [
      "Tuple of characters: ('H', 'e', 'l', 'l', 'o', ',', ' ', 'W', 'o', 'r', 'l', 'd', '!')\n"
     ]
    }
   ],
   "source": [
    "string = \"Hello, World!\"\n",
    "# the string to a tuple of characters\n",
    "tuple_of_characters = (*string,)\n",
    "#Print the tuple of characters\n",
    "print(\"Tuple of characters:\", tuple_of_characters)"
   ]
  },
  {
   "cell_type": "markdown",
   "id": "9019385d-62d8-47de-afb9-52551a075d21",
   "metadata": {},
   "source": [
    "24. Convert a tuple of characters to string..."
   ]
  },
  {
   "cell_type": "code",
   "execution_count": 50,
   "id": "1f22160a-9d46-4f83-9f2a-7587f92b521e",
   "metadata": {},
   "outputs": [
    {
     "name": "stdout",
     "output_type": "stream",
     "text": [
      "String from tuple: Hello World!\n"
     ]
    }
   ],
   "source": [
    "tuple_of_characters = ('H', 'e', 'l', 'l', 'o', ' ', 'W', 'o', 'r', 'l', 'd', '!')\n",
    "# the tuple of characters to a string using the 'join()' method\n",
    "string_from_tuple = ''.join(tuple_of_characters)\n",
    "#  the resulting string\n",
    "print(\"String from tuple:\", string_from_tuple)"
   ]
  },
  {
   "cell_type": "markdown",
   "id": "dad48037-2463-495f-912f-f8eb39ef4f09",
   "metadata": {},
   "source": [
    "25.Create a tuple from multiple..."
   ]
  },
  {
   "cell_type": "code",
   "execution_count": 51,
   "id": "b6bf85f8-2992-4949-aa35-46ab61e07ac7",
   "metadata": {},
   "outputs": [
    {
     "name": "stdout",
     "output_type": "stream",
     "text": [
      "(1, 'meth', 3.14, True)\n"
     ]
    }
   ],
   "source": [
    "mixed_tuple = (1, \"meth\", 3.14, True)\n",
    "print(mixed_tuple)"
   ]
  },
  {
   "cell_type": "markdown",
   "id": "25c119b2-aed8-4467-beab-7c71c74d4fbd",
   "metadata": {},
   "source": [
    "26.Check if two tuple are identical...."
   ]
  },
  {
   "cell_type": "code",
   "execution_count": 52,
   "id": "52d35a23-62dc-4f69-ae01-e20de3d6f8e6",
   "metadata": {},
   "outputs": [
    {
     "name": "stdout",
     "output_type": "stream",
     "text": [
      "tuple1 and tuple2 are identical: True\n",
      "tuple1 and tuple3 are identical: False\n"
     ]
    }
   ],
   "source": [
    "tuple1 = (1, 2, 3)\n",
    "tuple2 = (1, 2, 3)\n",
    "tuple3 = (4, 5, 6)\n",
    "# Compare the tuples for identity using the equality operator\n",
    "are_identical1 = tuple1 == tuple2\n",
    "are_identical2 = tuple1 == tuple3\n",
    "#Print the results\n",
    "print(\"tuple1 and tuple2 are identical:\", are_identical1)\n",
    "print(\"tuple1 and tuple3 are identical:\", are_identical2)"
   ]
  },
  {
   "cell_type": "markdown",
   "id": "66a2aca8-14f7-45ea-aea6-156546dee955",
   "metadata": {},
   "source": [
    "27.Sort the elements of tuple..."
   ]
  },
  {
   "cell_type": "code",
   "execution_count": 53,
   "id": "0e5f6ea0-e605-4636-9d3d-ff8cb2dfd9aa",
   "metadata": {},
   "outputs": [
    {
     "name": "stdout",
     "output_type": "stream",
     "text": [
      "Sorted tuple: (1, 2, 3, 5, 8)\n"
     ]
    }
   ],
   "source": [
    "tuple = (5, 2, 8, 1, 3)\n",
    "#Convert the tuple to a list, sort the list, and convert it back to a tuple\n",
    "sorted_tuple = (*sorted(tuple),)\n",
    "#  Print the sorted tuple\n",
    "print(\"Sorted tuple:\", sorted_tuple)\n"
   ]
  },
  {
   "cell_type": "markdown",
   "id": "3eeb6f11-b918-4e2c-8bdf-2182bd6da3a1",
   "metadata": {},
   "source": [
    " 28. convert a tuple of integers  to tuple of  string..."
   ]
  },
  {
   "cell_type": "code",
   "execution_count": 79,
   "id": "9e4ccbfa-bc43-4567-837d-3c75a2dc1e5c",
   "metadata": {},
   "outputs": [
    {
     "name": "stdout",
     "output_type": "stream",
     "text": [
      "Tuple of strings: ('1', '2', '3', '4', '5')\n"
     ]
    }
   ],
   "source": [
    "tuple_of_integers = (1, 2, 3, 4, 5)\n",
    "#the tuple of integers to a tuple of strings using a list comprehension\n",
    "tuple_of_strings = (*(str(item) for item in tuple_of_integers),)\n",
    "# the tuple of strings\n",
    "print(\"Tuple of strings:\", tuple_of_strings)"
   ]
  },
  {
   "cell_type": "markdown",
   "id": "33f43cc0-3dd9-4afc-beb5-cf01d797ce6e",
   "metadata": {},
   "source": [
    "29. convert a tuple of string  to tuple...."
   ]
  },
  {
   "cell_type": "code",
   "execution_count": 78,
   "id": "b19fe5c5-4035-4a2f-a77b-eb3953f4e2ae",
   "metadata": {},
   "outputs": [
    {
     "name": "stdout",
     "output_type": "stream",
     "text": [
      "Tuple of integers: (10, 20, 30, 40, 50)\n"
     ]
    }
   ],
   "source": [
    "tuple_of_strings = ('10', '20', '30', '40', '50') #the tuple of strings to a tuple of integers using a list comprehension\n",
    "tuple_of_integers = (*(int(item) for item in tuple_of_strings),)\n",
    "#  the tuple of integers\n",
    "print(\"Tuple of integers:\", tuple_of_integers)"
   ]
  },
  {
   "cell_type": "markdown",
   "id": "c305563b-57ab-464b-8fbd-f7787bd53773",
   "metadata": {},
   "source": [
    "30.Merge two tuple...."
   ]
  },
  {
   "cell_type": "code",
   "execution_count": 63,
   "id": "b3a1f1af-4fbf-45bf-bf7e-a4b9d84e8f94",
   "metadata": {},
   "outputs": [
    {
     "name": "stdout",
     "output_type": "stream",
     "text": [
      "Merged tuple: (1, 2, 3, 4, 5, 6)\n"
     ]
    }
   ],
   "source": [
    "tuple1 = (1, 2, 3)\n",
    "tuple2 = (4, 5, 6)\n",
    "# Merge the two tuples using the '+' operator\n",
    "merged_tuple = tuple1 + tuple2\n",
    "# Print the merged tuple\n",
    "print(\"Merged tuple:\", merged_tuple)"
   ]
  },
  {
   "cell_type": "markdown",
   "id": "2574d6e1-a40a-4454-b68d-73fb93a82e62",
   "metadata": {},
   "source": [
    "31.Flatten a nested tuple."
   ]
  },
  {
   "cell_type": "code",
   "execution_count": 1,
   "id": "c9052e64-5d12-4cc6-948d-4fe78d1cb8d8",
   "metadata": {},
   "outputs": [
    {
     "name": "stdout",
     "output_type": "stream",
     "text": [
      "Flattened tuple: (1, 2, 3, 4, 5, 6, 7, 8)\n"
     ]
    }
   ],
   "source": [
    "# Recursive function to flatten a nested tuple\n",
    "def flatten_tuple(nested_tuple):\n",
    "    flattened = []\n",
    "    for item in nested_tuple:\n",
    "        if isinstance(item, tuple):\n",
    "            flattened.extend(flatten_tuple(item))\n",
    "        else:\n",
    "            flattened.append(item)\n",
    "    return flattened\n",
    "\n",
    "# Step 1: Create a nested tuple\n",
    "nested_tuple = ((1, 2), (3, 4, 5), (6, (7, 8)))\n",
    "\n",
    "# Step 2: Flatten the nested tuple\n",
    "flattened_tuple =(*(flatten_tuple(nested_tuple)),)\n",
    "\n",
    "# Step 3: Print the flattened tuple\n",
    "print(\"Flattened tuple:\", flattened_tuple)"
   ]
  },
  {
   "cell_type": "markdown",
   "id": "fbe5ef34-b4ec-483e-858d-e3bbc5ff624f",
   "metadata": {},
   "source": [
    "32.create a tuple of first 5 prim numbers..."
   ]
  },
  {
   "cell_type": "code",
   "execution_count": 72,
   "id": "6bd4ca61-ac6a-42b3-8ae5-d5b7d23a6108",
   "metadata": {},
   "outputs": [
    {
     "name": "stdout",
     "output_type": "stream",
     "text": [
      "Tuple of the first 5 prime numbers: (2, 3, 5, 7, 11)\n"
     ]
    }
   ],
   "source": [
    "def is_prime(num):\n",
    "    if num <= 1:\n",
    "        return False\n",
    "    for i in range(2, int(num ** 0.5) + 1):\n",
    "        if num % i == 0:\n",
    "            return False\n",
    "    return True\n",
    "\n",
    "# Generate the first 5 prime numbers\n",
    "prime_numbers_list = [num for num in range(2, 100) if is_prime(num)][:5]\n",
    "\n",
    "# Convert the list to a tuple\n",
    "prime_numbers_tuple = (*prime_numbers_list,)\n",
    "\n",
    "# Print the tuple of prime numbers\n",
    "print(\"Tuple of the first 5 prime numbers:\", prime_numbers_tuple)"
   ]
  },
  {
   "cell_type": "markdown",
   "id": "36eab4c4-5b7d-44f7-b40a-d448908f9d68",
   "metadata": {},
   "source": [
    "33. check if tuple is a palidrome.."
   ]
  },
  {
   "cell_type": "code",
   "execution_count": 73,
   "id": "baacdfa8-f583-4798-ba31-9da92fcdeab3",
   "metadata": {},
   "outputs": [
    {
     "name": "stdout",
     "output_type": "stream",
     "text": [
      "palindrome_tuple is a palindrome: True\n",
      "non_palindrome_tuple is a palindrome: False\n"
     ]
    }
   ],
   "source": [
    "def is_palindrome(tup):\n",
    "    return tup == tup[::-1]\n",
    "# tuples for testing\n",
    "palindrome_tuple = (1, 2, 3, 2, 1)\n",
    "non_palindrome_tuple = (1, 2, 3, 4, 5)\n",
    "# if the tuples are palindromes\n",
    "is_palindrome1 = is_palindrome(palindrome_tuple)\n",
    "is_palindrome2 = is_palindrome(non_palindrome_tuple)\n",
    "#  the results\n",
    "print(\"palindrome_tuple is a palindrome:\", is_palindrome1)\n",
    "print(\"non_palindrome_tuple is a palindrome:\", is_palindrome2)"
   ]
  },
  {
   "cell_type": "markdown",
   "id": "7ed5a85c-901e-44a7-8d3e-0de6a37a2447",
   "metadata": {},
   "source": [
    "34. create a tuple of square of mumbers from  1 To 5."
   ]
  },
  {
   "cell_type": "code",
   "execution_count": 77,
   "id": "a9d10c8c-e3fa-4dc8-89d5-a198ec1c7a9d",
   "metadata": {},
   "outputs": [
    {
     "name": "stdout",
     "output_type": "stream",
     "text": [
      "Tuple of squares: (1, 4, 9, 16, 25)\n"
     ]
    }
   ],
   "source": [
    "#  a tuple of squares using a list comprehension\n",
    "squares_tuple = (*(x** 2 for x in range(1, 6)),)\n",
    "#  the tuple of squares\n",
    "print(\"Tuple of squares:\", squares_tuple)"
   ]
  },
  {
   "cell_type": "markdown",
   "id": "edb7307f-6746-428e-93db-376b921487d0",
   "metadata": {},
   "source": [
    "35.Filter out all even number from a tuple."
   ]
  },
  {
   "cell_type": "code",
   "execution_count": 83,
   "id": "703f46e1-bf44-4a4d-80c4-b139f543b943",
   "metadata": {},
   "outputs": [
    {
     "name": "stdout",
     "output_type": "stream",
     "text": [
      "Filtered tuple: (1, 3, 5, 7, 9)\n"
     ]
    }
   ],
   "source": [
    "original_tuple = (1, 2, 3, 4, 5, 6, 7, 8, 9, 10)\n",
    "# even numbers using a list comprehension\n",
    "filtered_tuple = (*(num for num in original_tuple if num % 2 != 0),)\n",
    "# the filtered tuple\n",
    "print(\"Filtered tuple:\", filtered_tuple)"
   ]
  },
  {
   "cell_type": "markdown",
   "id": "809d321c-262a-41f6-87c1-63fc58a1789b",
   "metadata": {},
   "source": [
    "36.Multiply all elements in a tuple by 2."
   ]
  },
  {
   "cell_type": "code",
   "execution_count": 84,
   "id": "cbf37142-a3a0-45bc-8321-c6df4c55fa5f",
   "metadata": {},
   "outputs": [
    {
     "name": "stdout",
     "output_type": "stream",
     "text": [
      "Doubled tuple: (2, 4, 6, 8, 10)\n"
     ]
    }
   ],
   "source": [
    "original_tuple = (1, 2, 3, 4, 5)\n",
    "#  elements by 2 using a list comprehension and convert to a tuple\n",
    "doubled_tuple = (*(num * 2 for num in original_tuple),)\n",
    "print(\"Doubled tuple:\", doubled_tuple)"
   ]
  },
  {
   "cell_type": "markdown",
   "id": "3a2d3d88-9d6a-4740-b198-747d58dff820",
   "metadata": {},
   "source": [
    "37. Create a tuple of random numbers."
   ]
  },
  {
   "cell_type": "code",
   "execution_count": 85,
   "id": "3c5c3032-bb5d-4d81-8d81-b8fc44ceb8b3",
   "metadata": {},
   "outputs": [
    {
     "name": "stdout",
     "output_type": "stream",
     "text": [
      "Random tuple: (67, 26, 13, 10, 68, 76, 33, 29, 6, 58)\n"
     ]
    }
   ],
   "source": [
    "import random\n",
    "# tuple of random numbers using a list comprehension\n",
    "random_tuple = (*(random.randint(1, 100) for _ in range(10)),)  # 10 random numbers between 1 and 100\n",
    "#the tuple of random numbers\n",
    "print(\"Random tuple:\", random_tuple)"
   ]
  },
  {
   "cell_type": "markdown",
   "id": "b1f56882-6e46-4672-bee1-12e8bb7f52c3",
   "metadata": {},
   "source": [
    "38. Check if tuple is sorted."
   ]
  },
  {
   "cell_type": "code",
   "execution_count": 86,
   "id": "77d8556a-8958-4ea1-a1c8-b43a0956e74c",
   "metadata": {},
   "outputs": [
    {
     "name": "stdout",
     "output_type": "stream",
     "text": [
      "sorted_tuple is sorted: True\n",
      "unsorted_tuple is sorted: False\n"
     ]
    }
   ],
   "source": [
    "def is_sorted(tup):\n",
    "    for i in range(len(tup) - 1):\n",
    "        if tup[i] > tup[i + 1]:\n",
    "            return False\n",
    "    return True\n",
    "# tuples for testing\n",
    "sorted_tuple = (1, 2, 3, 4, 5)\n",
    "unsorted_tuple = (5, 3, 1, 4, 2)\n",
    "is_sorted1 = is_sorted(sorted_tuple)\n",
    "is_sorted2 = is_sorted(unsorted_tuple)\n",
    "print(\"sorted_tuple is sorted:\", is_sorted1)\n",
    "print(\"unsorted_tuple is sorted:\", is_sorted2)"
   ]
  },
  {
   "cell_type": "markdown",
   "id": "e3a55a45-e8fc-4db9-a53b-02c4f65eeee8",
   "metadata": {},
   "source": [
    "39. Rotate a tuple to left by \"n\" positions."
   ]
  },
  {
   "cell_type": "code",
   "execution_count": 5,
   "id": "08a003cd-dcac-4dd7-92b4-c3f569e30163",
   "metadata": {},
   "outputs": [
    {
     "name": "stdout",
     "output_type": "stream",
     "text": [
      "(30, 40, 50, 10, 20)\n"
     ]
    }
   ],
   "source": [
    "def rotate_tuple_left(tup, n):\n",
    "    n = n % len(tup)  # n is within the range of tuple length\n",
    "    rotated_tuple = tup[n:] + tup[:n]  \n",
    "    return rotated_tuple\n",
    "my_tuple = (10,20,30,40,50)\n",
    "n_positions = 2\n",
    "result = rotate_tuple_left(my_tuple, n_positions)\n",
    "print(result)"
   ]
  },
  {
   "cell_type": "markdown",
   "id": "96465ead-a72f-45e5-a984-7058c64cf73f",
   "metadata": {},
   "source": [
    "40.Rotate a tuple to the right by \"n\" postion."
   ]
  },
  {
   "cell_type": "code",
   "execution_count": 4,
   "id": "726cb50a-2413-4e73-b358-b6f3b17d83bc",
   "metadata": {},
   "outputs": [
    {
     "name": "stdout",
     "output_type": "stream",
     "text": [
      "(40, 50, 10, 20, 30)\n"
     ]
    }
   ],
   "source": [
    "def rotate_tuple_right(tup, n):\n",
    "    n = n % len(tup)  # Ensure n is within the range of tuple length\n",
    "    rotated_tuple = tup[-n:] + tup[:-n] \n",
    "    return rotated_tuple\n",
    "my_tuple = (10, 20, 30, 40, 50)\n",
    "n_positions = 2\n",
    "result = rotate_tuple_right(my_tuple, n_positions)\n",
    "print(result)"
   ]
  },
  {
   "cell_type": "markdown",
   "id": "2a599d84-6ba9-4f5a-a86e-d35f48ebddbc",
   "metadata": {},
   "source": [
    "41.Create a tuple of the first 5 fabonacci..."
   ]
  },
  {
   "cell_type": "code",
   "execution_count": 6,
   "id": "267694ca-4752-464b-9acb-eb630b189c39",
   "metadata": {},
   "outputs": [
    {
     "name": "stdout",
     "output_type": "stream",
     "text": [
      "(0, 1, 1, 2, 3)\n"
     ]
    }
   ],
   "source": [
    "def generate_fibonacci(n):\n",
    "    fibonacci = [0, 1] \n",
    "    while len(fibonacci) < n:  #  generating Fibonacci numbers until the list has n elements\n",
    "        next_number = fibonacci[-1] + fibonacci[-2]  # Calculate the next Fibonacci number\n",
    "        fibonacci.append(next_number)  # Add the next Fibonacci number to the list\n",
    "    return (*fibonacci,)  # Convert the list to a tuple and return it\n",
    "# Call the generate_fibonacci function \n",
    "fibonacci_tuple = generate_fibonacci(5)\n",
    "print(fibonacci_tuple)"
   ]
  },
  {
   "cell_type": "markdown",
   "id": "ba60fd90-1c56-4b55-ae8a-033d7df2ec0a",
   "metadata": {},
   "source": [
    "42. Create a tuple from user input."
   ]
  },
  {
   "cell_type": "code",
   "execution_count": 7,
   "id": "0a299b2f-44f9-4a08-8cc9-89113395aa36",
   "metadata": {},
   "outputs": [
    {
     "name": "stdin",
     "output_type": "stream",
     "text": [
      "Enter elements separated by commas:  rama,manhas,ancd\n"
     ]
    },
    {
     "name": "stdout",
     "output_type": "stream",
     "text": [
      "User input tuple: ('rama', 'manhas', 'ancd')\n"
     ]
    }
   ],
   "source": [
    "input_str = input(\"Enter elements separated by commas: \")\n",
    "input_list = input_str.split(',')\n",
    "# the list of strings to a tuple\n",
    "user_tuple = tuple(input_list)\n",
    "print(\"User input tuple:\", user_tuple)"
   ]
  },
  {
   "cell_type": "markdown",
   "id": "0d88907b-d914-4a22-a42e-d99c9079be26",
   "metadata": {},
   "source": [
    "43.Swap two elements in a tuple."
   ]
  },
  {
   "cell_type": "code",
   "execution_count": 12,
   "id": "652b21b7-69b9-4131-8cbc-5560caea0450",
   "metadata": {},
   "outputs": [
    {
     "name": "stdout",
     "output_type": "stream",
     "text": [
      "Swapped tuple: (1, 4, 3, 2, 5)\n"
     ]
    }
   ],
   "source": [
    "my_tuple = (1, 2, 3, 4, 5)\n",
    "index1 = 1\n",
    "index2 = 3\n",
    "swapped_tuple = tuple(\n",
    "    my_tuple[i] if i not in (index1, index2) else\n",
    "    my_tuple[index2] if i == index1 else\n",
    "    my_tuple[index1]\n",
    "    for i in range(len(my_tuple))\n",
    ")\n",
    "print(\"Swapped tuple:\", swapped_tuple)"
   ]
  },
  {
   "cell_type": "markdown",
   "id": "9307b90d-1761-4d7b-9670-d32e0a4e37fa",
   "metadata": {},
   "source": [
    "44. Reverse the elements of a tuple."
   ]
  },
  {
   "cell_type": "code",
   "execution_count": 13,
   "id": "1451be85-5935-41f8-976f-e2fd74a54d0e",
   "metadata": {},
   "outputs": [
    {
     "name": "stdout",
     "output_type": "stream",
     "text": [
      "Reversed tuple: (5, 4, 3, 2, 1)\n"
     ]
    }
   ],
   "source": [
    "my_tuple = (1, 2, 3, 4, 5)\n",
    "reversed_tuple = my_tuple[::-1]\n",
    "print(\"Reversed tuple:\", reversed_tuple)"
   ]
  },
  {
   "cell_type": "markdown",
   "id": "1f65fd74-63be-4429-a9b7-d886e56e45e7",
   "metadata": {},
   "source": [
    "45. Create a tuple of the first \"n\" power of 2."
   ]
  },
  {
   "cell_type": "code",
   "execution_count": 14,
   "id": "f1f2fbf9-fdde-4952-ad17-8260468fc506",
   "metadata": {},
   "outputs": [
    {
     "name": "stdout",
     "output_type": "stream",
     "text": [
      "Tuple of the first 5 powers of 2: (1, 2, 4, 8, 16)\n"
     ]
    }
   ],
   "source": [
    "#  the value of n\n",
    "n = 5\n",
    "powers_of_2_tuple = tuple(2 ** i for i in range(n))\n",
    "print(\"Tuple of the first\", n, \"powers of 2:\", powers_of_2_tuple)"
   ]
  },
  {
   "cell_type": "markdown",
   "id": "79034728-2ee3-40a4-b5a3-dcd2edffda02",
   "metadata": {},
   "source": [
    "46. Find the longest string in a tuple of string."
   ]
  },
  {
   "cell_type": "code",
   "execution_count": 15,
   "id": "452bc4c7-bac9-4999-9591-d37de891879e",
   "metadata": {},
   "outputs": [
    {
     "name": "stdout",
     "output_type": "stream",
     "text": [
      "Longest string: watermelon\n"
     ]
    }
   ],
   "source": [
    "string_tuple = (\"apple\", \"banana\", \"grape\", \"kiwi\", \"watermelon\")\n",
    "longest_string = max(string_tuple, key=len)\n",
    "print(\"Longest string:\", longest_string)"
   ]
  },
  {
   "cell_type": "markdown",
   "id": "a4d81da8-19c9-4f1d-89fd-c74b5d8fca50",
   "metadata": {},
   "source": [
    "47.Find the shortest string in tuple of string."
   ]
  },
  {
   "cell_type": "code",
   "execution_count": 16,
   "id": "7356daee-5719-4175-8867-1cf45e8bfc4a",
   "metadata": {},
   "outputs": [
    {
     "name": "stdout",
     "output_type": "stream",
     "text": [
      "Shortest string: kiwi\n"
     ]
    }
   ],
   "source": [
    "string_tuple = (\"apple\", \"banana\", \"grape\", \"kiwi\", \"watermelon\")\n",
    "# the shortest string in the tuple\n",
    "shortest_string = min(string_tuple, key=len)\n",
    "print(\"Shortest string:\", shortest_string)"
   ]
  },
  {
   "cell_type": "markdown",
   "id": "fe9251c5-6c15-4a4b-88ee-da21daef87a4",
   "metadata": {},
   "source": [
    "48.Create a tuple of the first \"n\" triangular ..."
   ]
  },
  {
   "cell_type": "code",
   "execution_count": 17,
   "id": "e11331e0-1831-4e40-8a67-a6c43ddd7198",
   "metadata": {},
   "outputs": [
    {
     "name": "stdout",
     "output_type": "stream",
     "text": [
      "Tuple of the first 5 triangular numbers: (1, 3, 6, 10, 15)\n"
     ]
    }
   ],
   "source": [
    "n = 5\n",
    "triangular_numbers_tuple = tuple((i * (i + 1)) // 2 for i in range(1, n + 1))\n",
    "#  the tuple of triangular numbers\n",
    "print(\"Tuple of the first\", n, \"triangular numbers:\", triangular_numbers_tuple)"
   ]
  },
  {
   "cell_type": "markdown",
   "id": "76655710-02cd-43b8-97cf-2bc428264a7c",
   "metadata": {},
   "source": [
    "49.Check if tuple conatins another tuple as a subsequence."
   ]
  },
  {
   "cell_type": "code",
   "execution_count": 18,
   "id": "c11a7b8b-06e5-4d87-a600-8cc56eb75f5d",
   "metadata": {},
   "outputs": [
    {
     "name": "stdout",
     "output_type": "stream",
     "text": [
      "Main tuple contains subsequence tuple: True\n"
     ]
    }
   ],
   "source": [
    "def contains_subsequence(main_tuple, sub_tuple):\n",
    "    sub_length = len(sub_tuple)\n",
    "    for i in range(len(main_tuple) - sub_length + 1):\n",
    "        if main_tuple[i:i+sub_length] == sub_tuple:\n",
    "            return True\n",
    "    return False\n",
    "main_tuple = (1, 2, 3, 4, 5, 6, 7, 8, 9)\n",
    "sub_tuple = (3, 4, 5)\n",
    "# Check if the main tuple contains the subsequence tuple\n",
    "contains_subseq = contains_subsequence(main_tuple, sub_tuple)\n",
    "print(\"Main tuple contains subsequence tuple:\", contains_subseq)"
   ]
  },
  {
   "cell_type": "markdown",
   "id": "66a7f0b7-5661-4a39-b2f1-bd75101c1553",
   "metadata": {},
   "source": [
    "50.Create a tuple of alternating 1s and 0s of length \"n\"."
   ]
  },
  {
   "cell_type": "code",
   "execution_count": 20,
   "id": "91634300-5678-49f1-9512-789b03755bcf",
   "metadata": {},
   "outputs": [
    {
     "name": "stdout",
     "output_type": "stream",
     "text": [
      "Tuple of alternating 1s and 0s: (0, 1, 0, 1, 0, 1, 0, 1, 0, 1)\n"
     ]
    }
   ],
   "source": [
    "n = 10\n",
    "alternating_tuple = tuple(i % 2 for i in range(n))\n",
    "print(\"Tuple of alternating 1s and 0s:\", alternating_tuple)"
   ]
  },
  {
   "cell_type": "markdown",
   "id": "03e6bb12-8bfb-4b16-8839-e5963331a911",
   "metadata": {},
   "source": [
    "SET BASED PRACTICE PROBLEM."
   ]
  },
  {
   "cell_type": "markdown",
   "id": "5d811b8b-6a1c-4a36-bb9d-80efd38516ac",
   "metadata": {},
   "source": [
    "1.create a set with integers from 1 To 5."
   ]
  },
  {
   "cell_type": "code",
   "execution_count": 24,
   "id": "8563fa3e-7f36-404d-8aa4-552f0b8db9ad",
   "metadata": {},
   "outputs": [
    {
     "name": "stdout",
     "output_type": "stream",
     "text": [
      "{1, 2, 3, 4, 5}\n"
     ]
    }
   ],
   "source": [
    "my_set = set()\n",
    "#through this we add integer value\n",
    "my_set.add(1)\n",
    "my_set.add(2)\n",
    "my_set.add(3)\n",
    "my_set.add(4)\n",
    "my_set.add(5)\n",
    "print(my_set)"
   ]
  },
  {
   "cell_type": "markdown",
   "id": "9c1c6485-3a3c-4293-978f-0e7aba0abcf6",
   "metadata": {},
   "source": [
    "2.Add an elements to set."
   ]
  },
  {
   "cell_type": "code",
   "execution_count": 25,
   "id": "7fd9c55a-1576-43d6-9a20-7952981f7c1b",
   "metadata": {},
   "outputs": [
    {
     "name": "stdout",
     "output_type": "stream",
     "text": [
      "Original set: {1, 2, 3, 4, 5}\n",
      "Set after adding element: {1, 2, 3, 4, 5, 6}\n"
     ]
    }
   ],
   "source": [
    "my_set = {1, 2, 3, 4, 5}\n",
    "print(\"Original set:\", my_set)\n",
    "element_to_add = 6\n",
    "# done by using add function\n",
    "my_set.add(element_to_add)\n",
    "print(\"Set after adding element:\", my_set)"
   ]
  },
  {
   "cell_type": "markdown",
   "id": "8226dee1-9c04-4599-a55c-b01611a7c0af",
   "metadata": {},
   "source": [
    "3.Remove an elements from set."
   ]
  },
  {
   "cell_type": "code",
   "execution_count": 26,
   "id": "ee8f41c3-52ad-45d6-85b3-9ce1aa77c96c",
   "metadata": {},
   "outputs": [
    {
     "name": "stdout",
     "output_type": "stream",
     "text": [
      "Original Set: {1, 2, 3, 4, 5}\n",
      "Set after removing 3 : {1, 2, 4, 5}\n"
     ]
    }
   ],
   "source": [
    "my_set = {1, 2, 3, 4, 5}\n",
    "print(\"Original Set:\", my_set)\n",
    "element_to_remove = 3\n",
    "#  Use the remove() method to remove the chosen element\n",
    "my_set.remove(element_to_remove)\n",
    "print(\"Set after removing\", element_to_remove, \":\", my_set)"
   ]
  },
  {
   "cell_type": "markdown",
   "id": "4c7f5cb5-c2c1-4ce7-bba0-3b2da903301a",
   "metadata": {},
   "source": [
    "4.Check if an elements Exits in a set."
   ]
  },
  {
   "cell_type": "code",
   "execution_count": 27,
   "id": "61ea88d1-586a-45ea-88a8-6c2246787103",
   "metadata": {},
   "outputs": [
    {
     "name": "stdin",
     "output_type": "stream",
     "text": [
      "Enter the element to check:  10\n"
     ]
    },
    {
     "name": "stdout",
     "output_type": "stream",
     "text": [
      "10 exists in the set.\n"
     ]
    }
   ],
   "source": [
    "my_set = {4, 9, 5, 7, 10}\n",
    "element_to_check = int(input(\"Enter the element to check: \"))\n",
    "# the \"in\" keyword to check if the element exists in the set\n",
    "if element_to_check in my_set:\n",
    "    print(f\"{element_to_check} exists in the set.\")\n",
    "else:\n",
    "    print(f\"{element_to_check} does not exist in the set.\")"
   ]
  },
  {
   "cell_type": "markdown",
   "id": "101d8e48-355d-448b-8d70-2efaa2997126",
   "metadata": {},
   "source": [
    "5.Find the length of set without using the len()...."
   ]
  },
  {
   "cell_type": "code",
   "execution_count": 29,
   "id": "7ebf69f0-2720-4ee0-99ce-aabc00916c96",
   "metadata": {},
   "outputs": [
    {
     "name": "stdout",
     "output_type": "stream",
     "text": [
      "Length of the set: 7\n"
     ]
    }
   ],
   "source": [
    "my_set = {1, 2, 3, 4, 5,6,7}\n",
    "count = 0\n",
    "for _ in my_set:\n",
    "    # Increase the count by 1 for each element\n",
    "    count += 1\n",
    "print(\"Length of the set:\", count)"
   ]
  },
  {
   "cell_type": "markdown",
   "id": "6ffac278-60a8-4c0d-b944-6a8cd730ba07",
   "metadata": {},
   "source": [
    "6.Clear all elements from a set."
   ]
  },
  {
   "cell_type": "code",
   "execution_count": 30,
   "id": "bb8165e3-e8b3-4d3b-8b66-96c98215976c",
   "metadata": {},
   "outputs": [
    {
     "name": "stdout",
     "output_type": "stream",
     "text": [
      "Original set: {1, 2, 3, 4, 5}\n",
      "Set after clearing: set()\n"
     ]
    }
   ],
   "source": [
    "my_set = {1, 2, 3, 4, 5}\n",
    "# the original set\n",
    "print(\"Original set:\", my_set)\n",
    "# the set using the clear() method\n",
    "my_set.clear()\n",
    "print(\"Set after clearing:\", my_set)"
   ]
  },
  {
   "cell_type": "markdown",
   "id": "bdecdd8a-26b5-4a0c-bf8b-ce6d3a8c84ce",
   "metadata": {},
   "source": [
    "7.Create a set of even numbers from 1To10."
   ]
  },
  {
   "cell_type": "code",
   "execution_count": 31,
   "id": "56b02024-56f3-41cd-9917-7b7caac299ec",
   "metadata": {},
   "outputs": [
    {
     "name": "stdout",
     "output_type": "stream",
     "text": [
      "{2, 4, 6, 8, 10}\n"
     ]
    }
   ],
   "source": [
    "even_numbers_set = set()\n",
    "for num in range(1, 11):\n",
    "    if num % 2 == 0:\n",
    "        even_numbers_set.add(num)\n",
    "print(even_numbers_set)"
   ]
  },
  {
   "cell_type": "markdown",
   "id": "4d96cabb-56c7-4ab2-8461-6369b87cd98d",
   "metadata": {},
   "source": [
    "8.Create a set of odd number from 1 to 10."
   ]
  },
  {
   "cell_type": "code",
   "execution_count": 32,
   "id": "a4e6005d-a0b8-41c7-b707-5ca089a2f52f",
   "metadata": {},
   "outputs": [
    {
     "name": "stdout",
     "output_type": "stream",
     "text": [
      "{1, 3, 5, 7, 9}\n"
     ]
    }
   ],
   "source": [
    "odd_numbers_set = set()\n",
    "for num in range(1, 11):\n",
    "    if num % 2 != 0:\n",
    "        odd_numbers_set.add(num)\n",
    "print(odd_numbers_set)"
   ]
  },
  {
   "cell_type": "markdown",
   "id": "11003716-7f99-44a1-b325-770e01c67610",
   "metadata": {},
   "source": [
    "9.Find the union of two sets."
   ]
  },
  {
   "cell_type": "code",
   "execution_count": 33,
   "id": "dc2d2f6c-aba1-4429-897c-e3328dd9cd89",
   "metadata": {},
   "outputs": [
    {
     "name": "stdout",
     "output_type": "stream",
     "text": [
      "Set 1: {1, 2, 3, 4, 5}\n",
      "Set 2: {4, 5, 6, 7, 8}\n",
      "Union of Set 1 and Set 2: {1, 2, 3, 4, 5, 6, 7, 8}\n"
     ]
    }
   ],
   "source": [
    "set1 = {1, 2, 3, 4, 5}\n",
    "set2 = {4, 5, 6, 7, 8}\n",
    "# union of the two sets using the `union()` method\n",
    "union_result = set1.union(set2)\n",
    "print(\"Set 1:\", set1)\n",
    "print(\"Set 2:\", set2)\n",
    "print(\"Union of Set 1 and Set 2:\", union_result)"
   ]
  },
  {
   "cell_type": "markdown",
   "id": "9b021ca4-2e80-49b8-831a-640757746e17",
   "metadata": {},
   "source": [
    "10.Find the intersection of two sets."
   ]
  },
  {
   "cell_type": "code",
   "execution_count": 34,
   "id": "728ffa64-582f-42e1-a2af-756470172d29",
   "metadata": {},
   "outputs": [
    {
     "name": "stdout",
     "output_type": "stream",
     "text": [
      "Set 1: {1, 2, 3, 4, 5}\n",
      "Set 2: {3, 4, 5, 6, 7}\n",
      "Intersection: {3, 4, 5}\n"
     ]
    }
   ],
   "source": [
    "set1 = {1, 2, 3, 4, 5}\n",
    "set2 = {3, 4, 5, 6, 7}\n",
    "# intersection using the intersection() method\n",
    "intersection_result = set1.intersection(set2)\n",
    "print(\"Set 1:\", set1)\n",
    "print(\"Set 2:\", set2)\n",
    "print(\"Intersection:\", intersection_result)"
   ]
  },
  {
   "cell_type": "markdown",
   "id": "dfb5b326-cc90-455e-afdf-2c70f155f860",
   "metadata": {},
   "source": [
    "11.Find the difference between two sets."
   ]
  },
  {
   "cell_type": "code",
   "execution_count": 36,
   "id": "2ebb9e49-7d4f-411f-bbe7-2bc4eca6cd0e",
   "metadata": {},
   "outputs": [
    {
     "name": "stdout",
     "output_type": "stream",
     "text": [
      "Set 1: {1, 2, 3, 4, 5}\n",
      "Set 2: {3, 4, 5, 6, 7}\n",
      "Difference: {1, 2}\n"
     ]
    }
   ],
   "source": [
    "set1 = {1, 2, 3, 4, 5}\n",
    "set2 = {3, 4, 5, 6, 7}\n",
    "#  the difference between the sets using the difference() method\n",
    "difference_set = set1.difference(set2)\n",
    "print(\"Set 1:\", set1)\n",
    "print(\"Set 2:\", set2)\n",
    "print(\"Difference:\", difference_set)"
   ]
  },
  {
   "cell_type": "markdown",
   "id": "555485a4-be2a-4816-92ea-1a180db1c0d4",
   "metadata": {},
   "source": [
    "12.Check if set is subset of another set."
   ]
  },
  {
   "cell_type": "code",
   "execution_count": 37,
   "id": "f5751b8d-f922-4f7a-9fd5-8ea961003717",
   "metadata": {},
   "outputs": [
    {
     "name": "stdout",
     "output_type": "stream",
     "text": [
      "Is set1 a subset of set2: True\n"
     ]
    }
   ],
   "source": [
    "set1 = {1, 2, 3}\n",
    "set2 = {1, 2, 3, 4, 5}\n",
    "#the \"issubset()\" method to check if set1 is a subset of set2\n",
    "is_subset = set1.issubset(set2)\n",
    "print(\"Is set1 a subset of set2:\", is_subset)"
   ]
  },
  {
   "cell_type": "markdown",
   "id": "d0355c7a-e823-4dad-bbb8-9928356afdef",
   "metadata": {},
   "source": [
    "13.Check if set is superset of another set."
   ]
  },
  {
   "cell_type": "code",
   "execution_count": 38,
   "id": "8b10ddf8-cf67-4346-8a49-b6783fbf9230",
   "metadata": {},
   "outputs": [
    {
     "name": "stdout",
     "output_type": "stream",
     "text": [
      "set1 is a superset of set2\n"
     ]
    }
   ],
   "source": [
    "set1 = {1, 2, 3, 4, 5, 6}\n",
    "set2 = {3, 4}\n",
    "# Check if set1 is a superset of set2\n",
    "is_superset = set1.issuperset(set2)\n",
    "if is_superset:\n",
    "    print(\"set1 is a superset of set2\")\n",
    "else:\n",
    "    print(\"set1 is not a superset of set2\")"
   ]
  },
  {
   "cell_type": "markdown",
   "id": "e2c0e397-616c-476c-9141-9421ea8e16bd",
   "metadata": {},
   "source": [
    "14.Create a set from list."
   ]
  },
  {
   "cell_type": "code",
   "execution_count": 39,
   "id": "04b2ff1f-531d-41cc-b08c-1ad76738b104",
   "metadata": {},
   "outputs": [
    {
     "name": "stdout",
     "output_type": "stream",
     "text": [
      "Original List: [2, 4, 1, 4, 3, 2, 5]\n",
      "Set from List: {1, 2, 3, 4, 5}\n"
     ]
    }
   ],
   "source": [
    "my_list = [2, 4, 1, 4, 3, 2, 5]\n",
    "# Use the set() constructor to convert the list into a set\n",
    "my_set = set(my_list)\n",
    "print(\"Original List:\", my_list)\n",
    "print(\"Set from List:\", my_set)"
   ]
  },
  {
   "cell_type": "markdown",
   "id": "fec23e80-528b-471a-812b-b404bf8ad921",
   "metadata": {},
   "source": [
    "15.Convert a set to list."
   ]
  },
  {
   "cell_type": "code",
   "execution_count": 40,
   "id": "733baa93-5589-43e5-add6-7ea17f441392",
   "metadata": {},
   "outputs": [
    {
     "name": "stdout",
     "output_type": "stream",
     "text": [
      "Original Set: {1, 2, 3, 4, 5, 6, 9}\n",
      "Converted List: [1, 2, 3, 4, 5, 6, 9]\n"
     ]
    }
   ],
   "source": [
    "my_set = {3, 1, 4, 1, 5, 9, 2, 6, 5}\n",
    "# the set to a list using the list() function\n",
    "my_list = list(my_set)\n",
    "print(\"Original Set:\", my_set)\n",
    "print(\"Converted List:\", my_list)"
   ]
  },
  {
   "cell_type": "markdown",
   "id": "b243587b-8722-4c98-ad8b-4a1b70539970",
   "metadata": {},
   "source": [
    "16.Remove a random element...."
   ]
  },
  {
   "cell_type": "code",
   "execution_count": 41,
   "id": "29c72631-6437-4891-975a-16423da413a4",
   "metadata": {},
   "outputs": [
    {
     "name": "stdout",
     "output_type": "stream",
     "text": [
      "Original set: {1, 2, 3, 4, 5}\n",
      "Updated set after removing 3 : {1, 2, 4, 5}\n"
     ]
    }
   ],
   "source": [
    "import random\n",
    "my_set = {1, 2, 3, 4, 5}\n",
    "print(\"Original set:\", my_set)\n",
    "# Choose a random element from the set using the random.choice() function\n",
    "random_element = random.choice(list(my_set))\n",
    "my_set.remove(random_element)\n",
    "print(\"Updated set after removing\", random_element, \":\", my_set)"
   ]
  },
  {
   "cell_type": "markdown",
   "id": "fac81c47-6add-46ed-8702-2314f5be94ca",
   "metadata": {},
   "source": [
    "17.pop an elements from a set."
   ]
  },
  {
   "cell_type": "code",
   "execution_count": 42,
   "id": "da07b393-acb6-4489-8a41-832d82bd88f1",
   "metadata": {},
   "outputs": [
    {
     "name": "stdout",
     "output_type": "stream",
     "text": [
      "Original set: {1, 2, 3, 4, 5}\n",
      "Popped element: 1\n",
      "Set after popping: {2, 3, 4, 5}\n"
     ]
    }
   ],
   "source": [
    "my_set = {1, 2, 3, 4, 5}\n",
    "print(\"Original set:\", my_set)\n",
    "# Pop an element from the set using the pop() method\n",
    "popped_element = my_set.pop()\n",
    "print(\"Popped element:\", popped_element)\n",
    "print(\"Set after popping:\", my_set)"
   ]
  },
  {
   "cell_type": "markdown",
   "id": "3ce3f562-0275-449f-9871-01242580e02e",
   "metadata": {},
   "source": [
    "18. check if two sets have no elements   in common."
   ]
  },
  {
   "cell_type": "code",
   "execution_count": 43,
   "id": "28f0ff2c-405e-4c4d-8bd5-eb6a9ac8a0e3",
   "metadata": {},
   "outputs": [
    {
     "name": "stdout",
     "output_type": "stream",
     "text": [
      "The two sets have no elements in common.\n"
     ]
    }
   ],
   "source": [
    "set1 = {1, 2, 3, 4}\n",
    "set2 = {5, 6, 7, 8}\n",
    "# The intersection is the set of elements that are common to both sets\n",
    "common_elements = set1.intersection(set2)\n",
    "if not common_elements:\n",
    "    print(\"The two sets have no elements in common.\")\n",
    "else:\n",
    "    print(\"The two sets have common elements:\", common_elements)"
   ]
  },
  {
   "cell_type": "markdown",
   "id": "3b603ec4-6f1c-4dd0-9d53-461e69c97cbd",
   "metadata": {},
   "source": [
    "19.Find the symmetric difference between two sets."
   ]
  },
  {
   "cell_type": "code",
   "execution_count": 44,
   "id": "dd1091b6-d777-4b6b-b726-477da1eee851",
   "metadata": {},
   "outputs": [
    {
     "name": "stdout",
     "output_type": "stream",
     "text": [
      "Symmetric Difference: {1, 2, 3, 6, 7, 8}\n"
     ]
    }
   ],
   "source": [
    "set1 = {1, 2, 3, 4, 5}\n",
    "set2 = {4, 5, 6, 7, 8}\n",
    "# Calculate the symmetric difference using the ^ operator\n",
    "symmetric_difference = set1 ^ set2\n",
    "print(\"Symmetric Difference:\", symmetric_difference)"
   ]
  },
  {
   "cell_type": "markdown",
   "id": "62ce3af5-598c-490e-923a-07e1281a04a6",
   "metadata": {},
   "source": [
    "20.Updates a set of first 5 prime number."
   ]
  },
  {
   "cell_type": "code",
   "execution_count": 45,
   "id": "61f6b981-1eff-40b4-bbd7-5c3d1eaab844",
   "metadata": {},
   "outputs": [
    {
     "name": "stdout",
     "output_type": "stream",
     "text": [
      "Set 1: {1, 2, 3}\n",
      "Set 2: {3, 4, 5}\n",
      "Updated Set 1: {1, 2, 3, 4, 5}\n"
     ]
    }
   ],
   "source": [
    "set1 = {1, 2, 3}\n",
    "print(\"Set 1:\", set1)\n",
    "set2 = {3, 4, 5}\n",
    "print(\"Set 2:\", set2)\n",
    "set1.update(set2)\n",
    "print(\"Updated Set 1:\", set1)"
   ]
  },
  {
   "cell_type": "markdown",
   "id": "65ea09b1-a842-4e93-a418-523afdba0f70",
   "metadata": {},
   "source": [
    "21.create a set of first 8 prime..."
   ]
  },
  {
   "cell_type": "code",
   "execution_count": 46,
   "id": "edfc53b1-2654-4fc2-bbf5-0aa66f6de300",
   "metadata": {},
   "outputs": [
    {
     "name": "stdout",
     "output_type": "stream",
     "text": [
      "Set of the first 5 prime numbers: {2, 3, 5, 7, 11}\n"
     ]
    }
   ],
   "source": [
    "def is_prime(num):\n",
    "    if num <= 1:\n",
    "        return False\n",
    "    for i in range(2, int(num ** 0.5) + 1):\n",
    "        if num % i == 0:\n",
    "            return False\n",
    "    return True\n",
    "prime_set = set()\n",
    "# Initialize the number to start checking for primes\n",
    "num = 2\n",
    "# Loop until we have found the first 5 prime numbers\n",
    "while len(prime_set) < 5:\n",
    "    if is_prime(num):\n",
    "        prime_set.add(num)\n",
    "    num += 1\n",
    "print(\"Set of the first 5 prime numbers:\", prime_set)"
   ]
  },
  {
   "cell_type": "markdown",
   "id": "fed55d6a-05e3-4119-9f45-6a14e38dfb44",
   "metadata": {},
   "source": [
    "22.check if two set are identical."
   ]
  },
  {
   "cell_type": "code",
   "execution_count": 47,
   "id": "57da90ed-ce19-4ae8-bb85-3763d613012c",
   "metadata": {},
   "outputs": [
    {
     "name": "stdout",
     "output_type": "stream",
     "text": [
      "The sets are identical.\n"
     ]
    }
   ],
   "source": [
    "set1 = {1, 2, 3, 4, 5}\n",
    "set2 = {3, 1, 5, 2, 4}\n",
    "# The `==` operator compares the content of the sets.\n",
    "if set1 == set2:\n",
    "    print(\"The sets are identical.\")\n",
    "else:\n",
    "    print(\"The sets are not identical.\")"
   ]
  },
  {
   "cell_type": "markdown",
   "id": "461bd802-f538-4e8a-b07a-138d86018298",
   "metadata": {},
   "source": [
    "23.Create a frozen set."
   ]
  },
  {
   "cell_type": "code",
   "execution_count": 48,
   "id": "23dbafdd-c204-47de-a42c-7f9d4bc40603",
   "metadata": {},
   "outputs": [
    {
     "name": "stdout",
     "output_type": "stream",
     "text": [
      "Frozen Set: frozenset({1, 2, 3, 4, 5})\n"
     ]
    }
   ],
   "source": [
    "elements = [1, 2, 3, 4, 5]\n",
    "#  frozen set using the 'frozenset' constructor and passing the list of elements\n",
    "my_frozen_set = frozenset(elements)\n",
    "print(\"Frozen Set:\", my_frozen_set)"
   ]
  },
  {
   "cell_type": "markdown",
   "id": "449b6db9-2e1c-42cb-a826-eb00a74fc4aa",
   "metadata": {},
   "source": [
    "24.check if  a set disjoint with another set..."
   ]
  },
  {
   "cell_type": "code",
   "execution_count": 49,
   "id": "2d0dba2c-6e05-4014-8aed-ea4e93e53a36",
   "metadata": {},
   "outputs": [
    {
     "name": "stdout",
     "output_type": "stream",
     "text": [
      "Are the sets disjoint? True\n"
     ]
    }
   ],
   "source": [
    "set1 = {1, 2, 3, 4}\n",
    "set2 = {5, 6, 7, 8}\n",
    "# the `isdisjoint()` method to check if the sets are disjoint\n",
    "disjoint_status = set1.isdisjoint(set2)\n",
    "print(\"Are the sets disjoint?\", disjoint_status)"
   ]
  },
  {
   "cell_type": "markdown",
   "id": "5dd6cf02-f3ad-413d-8fa1-311e49f6f7e0",
   "metadata": {},
   "source": [
    "25create a set of square of number 1 TO 5."
   ]
  },
  {
   "cell_type": "code",
   "execution_count": 50,
   "id": "f5818847-40cc-43f3-bd0e-00b2b2c9ca21",
   "metadata": {},
   "outputs": [
    {
     "name": "stdout",
     "output_type": "stream",
     "text": [
      "{1, 4, 9, 16, 25}\n"
     ]
    }
   ],
   "source": [
    "squares_set = set()\n",
    "for num in range(1, 6):\n",
    "    square = num ** 2\n",
    "    squares_set.add(square)\n",
    "print(squares_set)"
   ]
  },
  {
   "cell_type": "markdown",
   "id": "eccb306f-9dfa-4b7e-bccc-5641ac9a1549",
   "metadata": {},
   "source": [
    "26.filter out all even number from set."
   ]
  },
  {
   "cell_type": "code",
   "execution_count": 51,
   "id": "603a4d72-33c8-43c8-8d5d-9f65990c2747",
   "metadata": {},
   "outputs": [
    {
     "name": "stdout",
     "output_type": "stream",
     "text": [
      "Original Set: {1, 2, 3, 4, 5}\n",
      "Even Numbers Set: {2, 4}\n"
     ]
    }
   ],
   "source": [
    "original_set = {1, 2, 3, 4, 5}\n",
    "even_numbers_set = set()\n",
    "for num in original_set:\n",
    "    if num % 2 == 0:\n",
    "        even_numbers_set.add(num)\n",
    "print(\"Original Set:\", original_set)\n",
    "print(\"Even Numbers Set:\", even_numbers_set)"
   ]
  },
  {
   "cell_type": "markdown",
   "id": "0ebabcd7-7f03-4e2f-be0b-a1fac9305be1",
   "metadata": {},
   "source": [
    "27.Multiply all element in a set by 2."
   ]
  },
  {
   "cell_type": "code",
   "execution_count": 52,
   "id": "9db476cc-782c-4b3f-b05e-0dcc0cb72f00",
   "metadata": {},
   "outputs": [
    {
     "name": "stdout",
     "output_type": "stream",
     "text": [
      "Original Set: {1, 2, 3, 4, 5}\n",
      "Multiplied Set: {2, 4, 6, 8, 10}\n"
     ]
    }
   ],
   "source": [
    "original_set = {1, 2, 3, 4, 5}\n",
    "multiplied_set = set()\n",
    "for num in original_set:\n",
    "    multiplied_num = num * 2\n",
    "    multiplied_set.add(multiplied_num)\n",
    "print(\"Original Set:\", original_set)\n",
    "print(\"Multiplied Set:\", multiplied_set)"
   ]
  },
  {
   "cell_type": "markdown",
   "id": "002d5fce-d8be-443b-896c-09e4fdedeb4b",
   "metadata": {},
   "source": [
    "28.Create a set of random number."
   ]
  },
  {
   "cell_type": "code",
   "execution_count": 54,
   "id": "95cdbd8e-d32d-42f4-9b0f-c3fe5245bae6",
   "metadata": {},
   "outputs": [
    {
     "name": "stdout",
     "output_type": "stream",
     "text": [
      "Generated set of random numbers: {96, 37, 40, 52, 21, 88, 60}\n"
     ]
    }
   ],
   "source": [
    "import random\n",
    "num_random_numbers = 7\n",
    "random_number_set = set()\n",
    "for _ in range(num_random_numbers):\n",
    "    random_num = random.randint(1, 100)  \n",
    "    random_number_set.add(random_num)\n",
    "print(\"Generated set of random numbers:\", random_number_set)"
   ]
  },
  {
   "cell_type": "markdown",
   "id": "4da68e2a-8d3a-4794-a2a4-a5590e0a574a",
   "metadata": {},
   "source": [
    "29.Check if a set is empty."
   ]
  },
  {
   "cell_type": "code",
   "execution_count": 55,
   "id": "96fb3dc3-e635-43de-ad36-a439492d4222",
   "metadata": {},
   "outputs": [
    {
     "name": "stdout",
     "output_type": "stream",
     "text": [
      "The set is empty.\n"
     ]
    }
   ],
   "source": [
    "my_set = set()\n",
    "if not my_set:\n",
    "    print(\"The set is empty.\")\n",
    "else:\n",
    "    print(\"The set is not empty.\")"
   ]
  },
  {
   "cell_type": "markdown",
   "id": "f8f4b6fe-4ec2-4dd3-a703-81a72b304992",
   "metadata": {},
   "source": [
    "30.Create a nested set.."
   ]
  },
  {
   "cell_type": "code",
   "execution_count": 56,
   "id": "1c3f62ec-ae6d-4d6b-92b6-7e34fa18bc41",
   "metadata": {},
   "outputs": [
    {
     "name": "stdout",
     "output_type": "stream",
     "text": [
      "Nested Set: {frozenset({1, 2, 3, 4, 5}), frozenset({6, 7, 8, 9, 10})}\n"
     ]
    }
   ],
   "source": [
    "set1 = {1, 2, 3, 4, 5}\n",
    "set2 = {6, 7, 8, 9, 10}#Create frozensets from the inner sets\n",
    "frozen_set1 = frozenset(set1)\n",
    "frozen_set2 = frozenset(set2)\n",
    "nested_set = {frozen_set1, frozen_set2}\n",
    "print(\"Nested Set:\", nested_set)"
   ]
  },
  {
   "cell_type": "markdown",
   "id": "46231693-2f3c-4725-9b3a-e1a24bf9d51c",
   "metadata": {},
   "source": [
    "31.Remove an elements from set using the dicards method."
   ]
  },
  {
   "cell_type": "code",
   "execution_count": 57,
   "id": "f6240e78-2b28-4814-96c3-d930dd93a28d",
   "metadata": {},
   "outputs": [
    {
     "name": "stdout",
     "output_type": "stream",
     "text": [
      "Initial set: {1, 2, 3, 4, 5}\n",
      "Set after removing 3 : {1, 2, 4, 5}\n"
     ]
    }
   ],
   "source": [
    "my_set = {1, 2, 3, 4, 5}\n",
    "print(\"Initial set:\", my_set)\n",
    "element_to_remove = 3\n",
    "# Use the discard() method to remove the element from the set\n",
    "# If the element is not present in the set, discard() won't raise an error\n",
    "my_set.discard(element_to_remove)\n",
    "print(\"Set after removing\", element_to_remove, \":\", my_set)"
   ]
  },
  {
   "cell_type": "markdown",
   "id": "bd74b06d-5784-425a-839e-e02e5bb7d981",
   "metadata": {},
   "source": [
    "32.compare two sets."
   ]
  },
  {
   "cell_type": "code",
   "execution_count": 58,
   "id": "8638c4ae-3b97-4a9c-b4d6-321cbace2c80",
   "metadata": {},
   "outputs": [
    {
     "name": "stdout",
     "output_type": "stream",
     "text": [
      "Set 1: {1, 2, 3, 4, 5}\n",
      "Set 2: {4, 5, 6, 7, 8}\n",
      "Is set1 a subset of set2? False\n",
      "Is set2 a subset of set1? False\n",
      "Intersection: {4, 5}\n",
      "Union: {1, 2, 3, 4, 5, 6, 7, 8}\n",
      "Elements in set1 but not in set2: {1, 2, 3}\n",
      "Elements in set2 but not in set1: {8, 6, 7}\n"
     ]
    }
   ],
   "source": [
    "set1 = {1, 2, 3, 4, 5}\n",
    "set2 = {4, 5, 6, 7, 8}\n",
    "is_subset = set1.issubset(set2)\n",
    "is_superset = set1.issuperset(set2)\n",
    "intersection = set1.intersection(set2)\n",
    "union = set1.union(set2)\n",
    "difference1 = set1.difference(set2)\n",
    "difference2 = set2.difference(set1)\n",
    "print(\"Set 1:\", set1)\n",
    "print(\"Set 2:\", set2)\n",
    "print(\"Is set1 a subset of set2?\", is_subset)\n",
    "print(\"Is set2 a subset of set1?\", is_superset)\n",
    "print(\"Intersection:\", intersection)\n",
    "print(\"Union:\", union)\n",
    "print(\"Elements in set1 but not in set2:\", difference1)\n",
    "print(\"Elements in set2 but not in set1:\", difference2)"
   ]
  },
  {
   "cell_type": "markdown",
   "id": "5461a0c5-11de-409a-8ea5-105081675595",
   "metadata": {},
   "source": [
    "33.Create a set from string."
   ]
  },
  {
   "cell_type": "code",
   "execution_count": 59,
   "id": "a7cd1161-3dc0-4564-aea5-8952d17e23fe",
   "metadata": {},
   "outputs": [
    {
     "name": "stdout",
     "output_type": "stream",
     "text": [
      "{'l', 'e', 'h', 'o'}\n"
     ]
    }
   ],
   "source": [
    "input_string = \"hello\"\n",
    "char_set = set(input_string)\n",
    "print(char_set)"
   ]
  },
  {
   "cell_type": "markdown",
   "id": "9839b562-5abf-4d45-889f-738f2db03e8d",
   "metadata": {},
   "source": [
    "34.convert a set of string to set integer."
   ]
  },
  {
   "cell_type": "code",
   "execution_count": 61,
   "id": "0ae4980b-518a-4d3f-84a9-a33fab09c79e",
   "metadata": {},
   "outputs": [
    {
     "name": "stdout",
     "output_type": "stream",
     "text": [
      "Original String Set: {'786', '897', '678'}\n",
      "Converted Integer Set: {897, 786, 678}\n"
     ]
    }
   ],
   "source": [
    "string_set = {\"678\", \"897\", \"786\"}\n",
    "integer_set = set()\n",
    "for string in string_set:\n",
    "    integer_value = int(string)\n",
    "    integer_set.add(integer_value)\n",
    "print(\"Original String Set:\", string_set)\n",
    "print(\"Converted Integer Set:\", integer_set)"
   ]
  },
  {
   "cell_type": "markdown",
   "id": "4f66d8a9-9af9-408d-9436-51c65ade30f4",
   "metadata": {},
   "source": [
    "35.Convert a set of integers to set of string."
   ]
  },
  {
   "cell_type": "code",
   "execution_count": 63,
   "id": "c8cbd981-6467-495a-a13d-b49ee7d83c47",
   "metadata": {},
   "outputs": [
    {
     "name": "stdout",
     "output_type": "stream",
     "text": [
      "Original integers_set: {64, 83, 85, 56, 28}\n",
      "Converted strings_set: {'28', '83', '64', '85', '56'}\n"
     ]
    }
   ],
   "source": [
    "integers_set = {56, 28, 83, 64, 85}\n",
    "strings_set = set()\n",
    "for num in integers_set:\n",
    "    num_str = str(num)\n",
    "    strings_set.add(num_str)\n",
    "print(\"Original integers_set:\", integers_set)\n",
    "print(\"Converted strings_set:\", strings_set)"
   ]
  },
  {
   "cell_type": "markdown",
   "id": "97a38c39-667f-44f2-97fe-17fa1d8de8af",
   "metadata": {},
   "source": [
    "36.Create a set from a tuple."
   ]
  },
  {
   "cell_type": "code",
   "execution_count": 64,
   "id": "1d7179dc-5562-42db-bc5d-ada725187b5a",
   "metadata": {},
   "outputs": [
    {
     "name": "stdout",
     "output_type": "stream",
     "text": [
      "{1, 2, 3, 4, 5}\n"
     ]
    }
   ],
   "source": [
    "input_tuple = (1, 2, 3, 2, 4, 5, 1)\n",
    "output_set = set(input_tuple)\n",
    "print(output_set)"
   ]
  },
  {
   "cell_type": "markdown",
   "id": "3634abf7-42ca-4e04-95a6-9f9ba27cc5e7",
   "metadata": {},
   "source": [
    "37.Convert a set to a tuple."
   ]
  },
  {
   "cell_type": "code",
   "execution_count": 65,
   "id": "cf12affc-68ab-4d75-bfea-b212522f9827",
   "metadata": {},
   "outputs": [
    {
     "name": "stdout",
     "output_type": "stream",
     "text": [
      "Original set: {1, 2, 3, 4, 5}\n",
      "Converted tuple: (1, 2, 3, 4, 5)\n"
     ]
    }
   ],
   "source": [
    "input_set = {1, 2, 3, 4, 5}\n",
    "output_tuple = tuple(input_set)\n",
    "print(\"Original set:\", input_set)\n",
    "print(\"Converted tuple:\", output_tuple)"
   ]
  },
  {
   "cell_type": "markdown",
   "id": "caa822d5-a66c-4c00-80d8-888d017ce4d0",
   "metadata": {},
   "source": [
    "38.Find the maximum value...."
   ]
  },
  {
   "cell_type": "code",
   "execution_count": 67,
   "id": "282221de-b433-4358-9e00-02408227688f",
   "metadata": {},
   "outputs": [
    {
     "name": "stdout",
     "output_type": "stream",
     "text": [
      "Maximum value: 97\n"
     ]
    }
   ],
   "source": [
    "my_set = {79, 97, 28, 13, 8}\n",
    "max_value = None\n",
    "for num in my_set:\n",
    "    if max_value is None or num > max_value:\n",
    "        max_value = num  \n",
    "print(\"Maximum value:\", max_value)"
   ]
  },
  {
   "cell_type": "markdown",
   "id": "2e3368e3-13dd-4914-a47c-acbed842339d",
   "metadata": {},
   "source": [
    "39.find the ninimum value..."
   ]
  },
  {
   "cell_type": "code",
   "execution_count": 68,
   "id": "249e51d3-6675-42e9-811b-87ecf5e71bf6",
   "metadata": {},
   "outputs": [
    {
     "name": "stdout",
     "output_type": "stream",
     "text": [
      "The minimum value in the set is: 2\n"
     ]
    }
   ],
   "source": [
    "number_set = {15, 98, 23, 5, 2, 11}\n",
    "min_value = None\n",
    "for num in number_set:\n",
    "    if min_value is None or num < min_value:\n",
    "        min_value = num\n",
    "print(\"The minimum value in the set is:\", min_value)"
   ]
  },
  {
   "cell_type": "markdown",
   "id": "1fba0235-12d6-4def-8568-68fc34630fa5",
   "metadata": {},
   "source": [
    "40.Create a set from user input."
   ]
  },
  {
   "cell_type": "code",
   "execution_count": 69,
   "id": "50b28904-2143-4402-b492-89deed315fe5",
   "metadata": {},
   "outputs": [
    {
     "name": "stdout",
     "output_type": "stream",
     "text": [
      "Enter elements for the set (type 'done' to finish):\n"
     ]
    },
    {
     "name": "stdin",
     "output_type": "stream",
     "text": [
      ">  56\n",
      ">  67\n",
      ">  89\n",
      ">  90\n",
      ">  89\n",
      ">  90\n",
      ">  done\n"
     ]
    },
    {
     "name": "stdout",
     "output_type": "stream",
     "text": [
      "Final set: {'67', '89', '90', '56'}\n"
     ]
    }
   ],
   "source": [
    "user_set = set()\n",
    "print(\"Enter elements for the set (type 'done' to finish):\")\n",
    "while True:\n",
    "    user_input = input(\"> \") \n",
    "    if user_input.lower() == 'done':\n",
    "        break  \n",
    "    user_set.add(user_input)\n",
    "print(\"Final set:\", user_set)"
   ]
  },
  {
   "cell_type": "markdown",
   "id": "22fcbccc-772a-4ad7-a74e-ad1c1d1e23ab",
   "metadata": {},
   "source": [
    "41.Check if the intersection...."
   ]
  },
  {
   "cell_type": "code",
   "execution_count": 70,
   "id": "0e8cc912-c7db-479e-881d-0cd04665bdcf",
   "metadata": {},
   "outputs": [
    {
     "name": "stdout",
     "output_type": "stream",
     "text": [
      "The intersection of the two sets is not empty.\n"
     ]
    }
   ],
   "source": [
    "set1 = {1, 2, 3, 4, 5}\n",
    "set2 = {4, 5, 6, 7, 8}\n",
    "#  the intersection of the two sets using the `intersection()` method\n",
    "intersection_result = set1.intersection(set2)\n",
    "if not intersection_result:\n",
    "    print(\"The intersection of the two sets is empty.\")\n",
    "else:\n",
    "    print(\"The intersection of the two sets is not empty.\")"
   ]
  },
  {
   "cell_type": "markdown",
   "id": "8a0696a5-2118-4e9d-9081-95ae61b7668a",
   "metadata": {},
   "source": [
    "42.create a set of the first 5 fibonacci..."
   ]
  },
  {
   "cell_type": "code",
   "execution_count": 71,
   "id": "0a57a847-3d8c-4e8b-ac12-81b33c9a81ec",
   "metadata": {},
   "outputs": [
    {
     "name": "stdout",
     "output_type": "stream",
     "text": [
      "Set of the first 5 Fibonacci numbers: {0, 1, 2, 3, 5}\n"
     ]
    }
   ],
   "source": [
    "fibonacci_set = set()\n",
    "a, b = 0, 1\n",
    "for _ in range(6):\n",
    "    fibonacci_set.add(a)\n",
    "    a, b = b, a + b\n",
    "print(\"Set of the first 5 Fibonacci numbers:\", fibonacci_set)"
   ]
  },
  {
   "cell_type": "markdown",
   "id": "74394688-df70-4a73-8fdc-9617d6815d10",
   "metadata": {},
   "source": [
    "43.Remove duplicate from list using sets.."
   ]
  },
  {
   "cell_type": "code",
   "execution_count": 72,
   "id": "cdbf4aa4-b4f8-46a3-b895-19750d79f5b7",
   "metadata": {},
   "outputs": [
    {
     "name": "stdout",
     "output_type": "stream",
     "text": [
      "Original List: [2, 4, 6, 4, 4, 10, 6, 12, 14, 8]\n",
      "List with Duplicates Removed: [2, 4, 6, 8, 10, 12, 14]\n"
     ]
    }
   ],
   "source": [
    "original_list = [2, 4, 6, 4, 4, 10, 6, 12, 14, 8]\n",
    "unique_set = set(original_list)\n",
    "unique_list = list(unique_set)\n",
    "print(\"Original List:\", original_list)\n",
    "print(\"List with Duplicates Removed:\", unique_list)"
   ]
  },
  {
   "cell_type": "markdown",
   "id": "04e7bb41-3087-4344-92c9-a518afe09e13",
   "metadata": {},
   "source": [
    "44.check if two sets have the same elements..."
   ]
  },
  {
   "cell_type": "code",
   "execution_count": 73,
   "id": "06dfb53b-d705-4bd8-a3f7-de2351ca6e43",
   "metadata": {},
   "outputs": [
    {
     "name": "stdout",
     "output_type": "stream",
     "text": [
      "The sets have the same elements.\n"
     ]
    }
   ],
   "source": [
    "def have_same_elements(set1, set2):\n",
    "    sorted_list1 = sorted(list(set1))\n",
    "    sorted_list2 = sorted(list(set2))\n",
    "    return sorted_list1 == sorted_list2\n",
    "set1 = {1, 2, 3, 2, 1}\n",
    "set2 = {3, 1, 2}\n",
    "result = have_same_elements(set1, set2)\n",
    "if result:\n",
    "    print(\"The sets have the same elements.\")\n",
    "else:\n",
    "    print(\"The sets do not have the same elements.\")"
   ]
  },
  {
   "cell_type": "markdown",
   "id": "7fa2c6bb-d116-4a39-aec1-e5b17ca62ae8",
   "metadata": {},
   "source": [
    "45.create a set of the first \"n\" power of 2."
   ]
  },
  {
   "cell_type": "code",
   "execution_count": 74,
   "id": "2017499c-670f-4640-a9f4-7f70da9ca241",
   "metadata": {},
   "outputs": [
    {
     "name": "stdout",
     "output_type": "stream",
     "text": [
      "{1, 2, 4, 8, 16}\n"
     ]
    }
   ],
   "source": [
    "def generate_powers_of_2(n):\n",
    "    powers_of_2 = set()\n",
    "    for i in range(n):\n",
    "        power = 2 ** i\n",
    "        powers_of_2.add(power)\n",
    "    return powers_of_2\n",
    "n = 5\n",
    "powers_set = generate_powers_of_2(n)\n",
    "print(powers_set)"
   ]
  },
  {
   "cell_type": "markdown",
   "id": "9403bb7b-efd3-48d5-8014-c79725cc8821",
   "metadata": {},
   "source": [
    "46.Find the common elements betwwen set and list."
   ]
  },
  {
   "cell_type": "code",
   "execution_count": 76,
   "id": "4473c7d6-68ea-4354-ab04-30c7ab82aa6b",
   "metadata": {},
   "outputs": [
    {
     "name": "stdout",
     "output_type": "stream",
     "text": [
      "Common elements: [16, 3, 9]\n"
     ]
    }
   ],
   "source": [
    "my_set = {3, 7, 9, 16, 15}\n",
    "my_list = [3, 16, 5, 9]\n",
    "list_to_set = set(my_list)\n",
    "common_elements = []\n",
    "for element in my_set:\n",
    "    if element in list_to_set:\n",
    "        common_elements.append(element)\n",
    "print(\"Common elements:\", common_elements)"
   ]
  },
  {
   "cell_type": "markdown",
   "id": "7259f7c4-25e4-4159-8661-30c01e6ac42d",
   "metadata": {},
   "source": [
    "47.Create a set of the first \"n\" triangular number ."
   ]
  },
  {
   "cell_type": "code",
   "execution_count": 77,
   "id": "8016f0e2-4e5c-4cac-9446-6fc468f44c53",
   "metadata": {},
   "outputs": [
    {
     "name": "stdin",
     "output_type": "stream",
     "text": [
      "Enter the value of n:  6\n"
     ]
    },
    {
     "name": "stdout",
     "output_type": "stream",
     "text": [
      "The set of the first 6 triangular numbers is: {1, 3, 6, 10, 15, 21}\n"
     ]
    }
   ],
   "source": [
    "def generate_triangular_numbers(n):\n",
    "    triangular_numbers = set()  \n",
    "    for i in range(1, n + 1):\n",
    "        triangular_number = i * (i + 1) // 2  \n",
    "        triangular_numbers.add(triangular_number) \n",
    "    return triangular_numbers\n",
    "n = int(input(\"Enter the value of n: \"))\n",
    "triangular_set = generate_triangular_numbers(n)\n",
    "print(f\"The set of the first {n} triangular numbers is:\", triangular_set)"
   ]
  },
  {
   "cell_type": "markdown",
   "id": "f402ca7f-140a-4124-964c-b91fb3552661",
   "metadata": {},
   "source": [
    "48.check if set conatin another set as subset."
   ]
  },
  {
   "cell_type": "code",
   "execution_count": 78,
   "id": "f003e1ab-97c5-4aa4-9e4a-405092ca7792",
   "metadata": {},
   "outputs": [
    {
     "name": "stdout",
     "output_type": "stream",
     "text": [
      "set2 is a subset of set1\n"
     ]
    }
   ],
   "source": [
    "set1 = {1, 2, 3, 4, 5}\n",
    "set2 = {3, 4}\n",
    "is_subset = set2.issubset(set1)\n",
    "if is_subset:\n",
    "    print(\"set2 is a subset of set1\")\n",
    "else:\n",
    "    print(\"set2 is not a subset of set1\")"
   ]
  },
  {
   "cell_type": "markdown",
   "id": "32fbb93f-0730-4037-80f0-276c6b7dcc21",
   "metadata": {},
   "source": [
    "49.create a set alternating 1s and 0s of length \"n\"."
   ]
  },
  {
   "cell_type": "code",
   "execution_count": 79,
   "id": "4da0d14f-6a8d-476c-9e54-b72a8c50713e",
   "metadata": {},
   "outputs": [
    {
     "name": "stdout",
     "output_type": "stream",
     "text": [
      "{0, 1}\n"
     ]
    }
   ],
   "source": [
    "def create_alternating_set(n):\n",
    "    alternating_set = set()\n",
    "    for i in range(n):\n",
    "        if i % 2 == 0:\n",
    "            alternating_set.add(1)  \n",
    "        else:\n",
    "            alternating_set.add(0)  \n",
    "\n",
    "    return alternating_set\n",
    "length_n = 10\n",
    "result = create_alternating_set(length_n)\n",
    "print(result)"
   ]
  },
  {
   "cell_type": "markdown",
   "id": "524747fc-19c6-4b7d-bf54-0cdbe40d746c",
   "metadata": {},
   "source": [
    "50.Merge multiple sets into one."
   ]
  },
  {
   "cell_type": "code",
   "execution_count": 80,
   "id": "6826ad73-c3b7-43c1-a0cd-23ab56a40f00",
   "metadata": {},
   "outputs": [
    {
     "name": "stdout",
     "output_type": "stream",
     "text": [
      "Merged Set: {1, 2, 3, 4, 5, 6, 7}\n"
     ]
    }
   ],
   "source": [
    "set1 = {1, 2, 3}\n",
    "set2 = {3, 4, 5}\n",
    "set3 = {5, 6, 7}\n",
    "#  Use the union() method to merge sets\n",
    "merged_set = set1.union(set2, set3)\n",
    "print(\"Merged Set:\", merged_set)"
   ]
  },
  {
   "cell_type": "code",
   "execution_count": null,
   "id": "65eca06d-10b2-4889-ac03-ceddad3f9355",
   "metadata": {},
   "outputs": [],
   "source": []
  }
 ],
 "metadata": {
  "kernelspec": {
   "display_name": "Python 3 (ipykernel)",
   "language": "python",
   "name": "python3"
  },
  "language_info": {
   "codemirror_mode": {
    "name": "ipython",
    "version": 3
   },
   "file_extension": ".py",
   "mimetype": "text/x-python",
   "name": "python",
   "nbconvert_exporter": "python",
   "pygments_lexer": "ipython3",
   "version": "3.10.8"
  }
 },
 "nbformat": 4,
 "nbformat_minor": 5
}
